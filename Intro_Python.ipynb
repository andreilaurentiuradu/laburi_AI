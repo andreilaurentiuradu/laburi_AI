{
  "cells": [
    {
      "cell_type": "markdown",
      "metadata": {
        "id": "view-in-github",
        "colab_type": "text"
      },
      "source": [
        "<a href=\"https://colab.research.google.com/github/andreilaurentiuradu/laburi_AI/blob/main/Intro_Python.ipynb\" target=\"_parent\"><img src=\"https://colab.research.google.com/assets/colab-badge.svg\" alt=\"Open In Colab\"/></a>"
      ]
    },
    {
      "cell_type": "markdown",
      "metadata": {
        "id": "pAbOYrCmn1IX"
      },
      "source": [
        "## Inteligență Artificială  Laboratorul 1 : Introducere în Python\n",
        "\n",
        "\n",
        "- Cătălin Chiru: <cata.chiru99@gmail.com>\n",
        "- Mihai Nan: <mihai.nan@upb.ro>\n"
      ]
    },
    {
      "cell_type": "markdown",
      "metadata": {
        "id": "jAFHhLGun1IZ"
      },
      "source": [
        "Conținut:\n",
        "* liste\n",
        "* dicționare\n",
        "* numpy\n",
        "* pandas\n",
        "* funcții\n",
        "* tupluri"
      ]
    },
    {
      "cell_type": "markdown",
      "metadata": {
        "id": "tKiN0qcmWrZH"
      },
      "source": [
        "# <u> Tutorial [20p] </u>"
      ]
    },
    {
      "cell_type": "markdown",
      "metadata": {
        "id": "qLESCIYvn1IZ"
      },
      "source": [
        "# <u> Importuri </u>"
      ]
    },
    {
      "cell_type": "markdown",
      "metadata": {
        "id": "16PgA8l1n1Ia"
      },
      "source": [
        "Importurile sunt descărcate utilizând pip, un sistem de management al pachetelor pentru Python."
      ]
    },
    {
      "cell_type": "markdown",
      "metadata": {
        "id": "YqlBxP1on1Ia"
      },
      "source": [
        "---\n",
        "**Observație**:\n",
        "\n",
        "Nu este necesar să rulați instalarea importurilor la fiecare rulare a notebook-ului. Ele sunt deja instalate în mediu.\n",
        "\n",
        "De aceea, acestea sunt adesea poziționate la începutul notebook-ului.\n",
        "\n",
        "___\n"
      ]
    },
    {
      "cell_type": "code",
      "execution_count": null,
      "metadata": {
        "colab": {
          "base_uri": "https://localhost:8080/"
        },
        "id": "BC__6ENkn1Ib",
        "outputId": "f1353774-0226-487d-84e5-ec13c44dff16"
      },
      "outputs": [
        {
          "output_type": "stream",
          "name": "stdout",
          "text": [
            "Requirement already satisfied: numpy in /usr/local/lib/python3.11/dist-packages (1.26.4)\n",
            "Requirement already satisfied: unidecode in /usr/local/lib/python3.11/dist-packages (1.3.8)\n",
            "Requirement already satisfied: pandas in /usr/local/lib/python3.11/dist-packages (2.2.2)\n",
            "Requirement already satisfied: numpy>=1.23.2 in /usr/local/lib/python3.11/dist-packages (from pandas) (1.26.4)\n",
            "Requirement already satisfied: python-dateutil>=2.8.2 in /usr/local/lib/python3.11/dist-packages (from pandas) (2.8.2)\n",
            "Requirement already satisfied: pytz>=2020.1 in /usr/local/lib/python3.11/dist-packages (from pandas) (2025.1)\n",
            "Requirement already satisfied: tzdata>=2022.7 in /usr/local/lib/python3.11/dist-packages (from pandas) (2025.1)\n",
            "Requirement already satisfied: six>=1.5 in /usr/local/lib/python3.11/dist-packages (from python-dateutil>=2.8.2->pandas) (1.17.0)\n"
          ]
        }
      ],
      "source": [
        "# !pip install pickle\n",
        "!pip install numpy #numpy==1.16.1 (Anumite pachete au nevoie de compatibilitatea versiunilor,\n",
        "                   #               în comentarii am specificat modul prin care putem forța instalarea unei versiuni specifice)\n",
        "\n",
        "!pip install unidecode\n",
        "!pip install pandas"
      ]
    },
    {
      "cell_type": "markdown",
      "metadata": {
        "id": "m4OvonMpn1Ib"
      },
      "source": [
        "Putem să importăm fie un intreg modul, fie doar funcțiile sau clasele din acel modul pe care dorim să le folosim (Opțiune aleasă din considerente de memorie și lizibilitate a codului).  \n"
      ]
    },
    {
      "cell_type": "code",
      "execution_count": null,
      "metadata": {
        "id": "2lpmsPOHn1Ib"
      },
      "outputs": [],
      "source": [
        "from functools import reduce\n",
        "import re\n",
        "from unidecode import unidecode\n",
        "import pickle as pkl # Putem folosi aliasuri pentru a scurta numele unor module utilizate\n",
        "import numpy as np\n",
        "import pandas as pd\n",
        "from copy import deepcopy"
      ]
    },
    {
      "cell_type": "markdown",
      "metadata": {
        "id": "2ST1ePm_P5W3"
      },
      "source": [
        "# <u> Variabile </u>"
      ]
    },
    {
      "cell_type": "code",
      "execution_count": null,
      "metadata": {
        "id": "VTQ-xN2RTcVm"
      },
      "outputs": [],
      "source": [
        "var = 5"
      ]
    },
    {
      "cell_type": "markdown",
      "metadata": {
        "id": "tWf6MsD_XPT7"
      },
      "source": [
        "În cadrul modulelor de deep learning, o prima etapă a debugging-ului în cazul erorilor din timpul rulării programului (`Runtime Errors`) o reprezintă printarea tipurilor de date curente și așteptate."
      ]
    },
    {
      "cell_type": "code",
      "execution_count": null,
      "metadata": {
        "colab": {
          "base_uri": "https://localhost:8080/"
        },
        "id": "cyQNGZyETnqA",
        "outputId": "a28b2098-3e65-4459-a09b-134bdefd6e9a"
      },
      "outputs": [
        {
          "output_type": "execute_result",
          "data": {
            "text/plain": [
              "int"
            ]
          },
          "metadata": {},
          "execution_count": 57
        }
      ],
      "source": [
        "type(var) # Întoarce tipul cel mai general care poate fi inferat din variabila"
      ]
    },
    {
      "cell_type": "markdown",
      "metadata": {
        "id": "wcQ-jE-rn1Id"
      },
      "source": [
        "Pentru o mai bună vizibilitate, putem tipa variabilele:"
      ]
    },
    {
      "cell_type": "code",
      "execution_count": null,
      "metadata": {
        "colab": {
          "base_uri": "https://localhost:8080/"
        },
        "id": "roG9KJv4TvzY",
        "outputId": "50f48a5b-7f50-4391-eaf0-a133c94f931b"
      },
      "outputs": [
        {
          "output_type": "execute_result",
          "data": {
            "text/plain": [
              "int"
            ]
          },
          "metadata": {},
          "execution_count": 58
        }
      ],
      "source": [
        "var : int = 5\n",
        "\n",
        "type(var)"
      ]
    },
    {
      "cell_type": "markdown",
      "metadata": {
        "id": "BgknsM-Rn1Ie"
      },
      "source": [
        "Însă, python este suficient de permisiv și nu va produce erori dacă tipul variabilei nu concordă, căutând să convertească tipul variabilei la cel mai general tip care face matching cu toate elementele listei:"
      ]
    },
    {
      "cell_type": "code",
      "execution_count": null,
      "metadata": {
        "colab": {
          "base_uri": "https://localhost:8080/"
        },
        "id": "W0u6e6JuT5wd",
        "outputId": "ea62733b-9a01-4fd8-9d9f-1a075526caaf"
      },
      "outputs": [
        {
          "output_type": "execute_result",
          "data": {
            "text/plain": [
              "str"
            ]
          },
          "metadata": {},
          "execution_count": 59
        }
      ],
      "source": [
        "var2 : int = \"abc\"\n",
        "\n",
        "type(var2)"
      ]
    },
    {
      "cell_type": "markdown",
      "metadata": {
        "id": "NdX-i1hFrqxw"
      },
      "source": [
        "___\n",
        "**Observație:** Celulele unui Jupyter Notebook sunt executate de obicei într-o maniera top-down, iar datele calculate sau variabilele definite într-o celulă sunt păstrate local, în memoria notebook-ului și sunt disponibile în celulele ulterioare din cadrul aceluiași document.\n",
        "\n",
        "Acest comportament permite utilizatorilor să acceseze și să reutilizeze rezultatele sau variabilele definite anterior.\n",
        "\n",
        "Aveți mare grijă în momentul în care faceți debugging în celule inferioare celulei unde vă efectuați workflow-ul curent la efectele laterale pe care le produceți asupra variabilelor de interes.\n",
        "\n",
        "---"
      ]
    },
    {
      "cell_type": "code",
      "execution_count": null,
      "metadata": {
        "colab": {
          "base_uri": "https://localhost:8080/"
        },
        "id": "C2PNT_88V9kN",
        "outputId": "bf073b15-9d26-4ccb-bbe1-81d3e8ad4314"
      },
      "outputs": [
        {
          "output_type": "execute_result",
          "data": {
            "text/plain": [
              "7"
            ]
          },
          "metadata": {},
          "execution_count": 60
        }
      ],
      "source": [
        "# Putem accesa variabila \"var\", care a fost definită mai sus\n",
        "var + 2"
      ]
    },
    {
      "cell_type": "markdown",
      "metadata": {
        "id": "x3-EVVBCYObL"
      },
      "source": [
        "# <u> Printare </u>"
      ]
    },
    {
      "cell_type": "markdown",
      "metadata": {
        "id": "4eeTeK1dYReA"
      },
      "source": [
        "După cum ați putut observa, în cadrul celulelor de Jupyter Notebook există o manieră implicită de a printa o variabilă sau rezultatul unei funcții, plasând-o la sfârșitul celulei, în afara unei definiții (similar comportamentului Matlab studiat la MN)\n",
        "\n",
        "O manieră explicită prin care putem printa, oriunde în interiorul celulei se realizează utilizând funcția _\"print\"_ și modurile sale de formatare introduse o dată cu Python 3.x"
      ]
    },
    {
      "cell_type": "code",
      "execution_count": null,
      "metadata": {
        "colab": {
          "base_uri": "https://localhost:8080/"
        },
        "id": "7Iy7eu03ZpIn",
        "outputId": "6334c272-b176-4fda-f4d7-d841af9d67d8"
      },
      "outputs": [
        {
          "output_type": "stream",
          "name": "stdout",
          "text": [
            "Variabila de mai sus: 5 printată de la începutul celulei\n",
            "Aceeași Mărie: valoarea 0.0123\n",
            "Aceeași Mărie: valoarea 0.0123\n",
            "Aceeași Mărie cu altă pălărie: valoarea 1.23e-02\n"
          ]
        }
      ],
      "source": [
        "print(\"Variabila de mai sus:\", var, \"printată de la începutul celulei\")\n",
        "\n",
        "nume = \"Mărie\"\n",
        "\n",
        "var_float = 0.0123\n",
        "\n",
        "print(\"Aceeași {}: valoarea {}\".format(nume, var_float))\n",
        "\n",
        "# f din fața stringului esete un macro pentru apelarea cu variabile in-place a funcției de formatare\n",
        "print(f\"Aceeași {nume}: valoarea {var_float}\")\n",
        "\n",
        "print(f\"Aceeași {nume} cu altă pălărie: valoarea {var_float:.2e}\")"
      ]
    },
    {
      "cell_type": "markdown",
      "metadata": {
        "id": "aLibaDp8a_nj"
      },
      "source": [
        "  Observăm că, prin folosirea indicației `{:2e}` am determinat printarea `var_float` în format stiințific, de tip  `mantisă`<mark>e</mark>`exponent`"
      ]
    },
    {
      "cell_type": "markdown",
      "metadata": {
        "id": "vS3UJhV8n1Ic"
      },
      "source": [
        "# <u> Liste  </u>"
      ]
    },
    {
      "cell_type": "markdown",
      "metadata": {
        "id": "MQAPf0qHn1Ic"
      },
      "source": [
        "Echivalentul array-urilor din Java, sau a vectorilor din C++, sunt colecții de elemente.\n",
        "\n",
        "Datorita sintezei de tipuri din Python, listele pot conține elemente de tipuri diferite, spre deosebire de structurile echivalente din alte limbaje de programare.\n",
        "\n",
        "Totodată, în Python, string-urile sunt considerate liste de caractere și se pot folosi aceleași operații pe care urmează să le prezentăm + altele specifice string-urilor."
      ]
    },
    {
      "cell_type": "code",
      "execution_count": null,
      "metadata": {
        "id": "aJ9dfHI5n1Ic"
      },
      "outputs": [],
      "source": [
        "lista_polimorfica = [1, 'string', [1,2,4], None]"
      ]
    },
    {
      "cell_type": "markdown",
      "metadata": {
        "id": "knaB4mEpWrZN"
      },
      "source": [
        "Pentru o versiune a kernel-ului Python 3.x, x < 9, veți primi o eroare executând celula de mai jos.\n",
        "\n",
        "Puteți fie să actualizați kernel-ul la o versiune mai nouă, fie să rulați:\n",
        "\n",
        "<code>`lista_int : list = [1, 2, 3, 4, 5]`</code>"
      ]
    },
    {
      "cell_type": "code",
      "execution_count": null,
      "metadata": {
        "id": "RCPYdqyNn1Id"
      },
      "outputs": [],
      "source": [
        "lista_int : list[int] = [1, 2, 3, 4, 5]"
      ]
    },
    {
      "cell_type": "code",
      "execution_count": null,
      "metadata": {
        "id": "yzfGUQq6n1Ie"
      },
      "outputs": [],
      "source": [
        "lista_polimorfica2: list[int] = [1, 'string', [1,2,4], None]"
      ]
    },
    {
      "cell_type": "code",
      "execution_count": null,
      "metadata": {
        "colab": {
          "base_uri": "https://localhost:8080/"
        },
        "id": "sb3STkRan1Ie",
        "outputId": "1aed6429-6258-4bc8-bb43-c0c60e0c1fd6"
      },
      "outputs": [
        {
          "output_type": "execute_result",
          "data": {
            "text/plain": [
              "list"
            ]
          },
          "metadata": {},
          "execution_count": 65
        }
      ],
      "source": [
        "type(lista_polimorfica2) # Aceeași discuție ca în cazul variabilelor"
      ]
    },
    {
      "cell_type": "markdown",
      "metadata": {
        "id": "NIfwSqZmn1Ie"
      },
      "source": [
        "### <u>Indexare și slicing</u>"
      ]
    },
    {
      "cell_type": "code",
      "execution_count": null,
      "metadata": {
        "colab": {
          "base_uri": "https://localhost:8080/"
        },
        "id": "OdLqi6HZn1Ie",
        "outputId": "85ed5163-8e67-4963-c7ca-6461470c89cf"
      },
      "outputs": [
        {
          "output_type": "execute_result",
          "data": {
            "text/plain": [
              "[1, 2, 3, 4, 5]"
            ]
          },
          "metadata": {},
          "execution_count": 66
        }
      ],
      "source": [
        "lista_int"
      ]
    },
    {
      "cell_type": "code",
      "execution_count": null,
      "metadata": {
        "colab": {
          "base_uri": "https://localhost:8080/"
        },
        "id": "OEO1gV-Tn1If",
        "outputId": "c090ca90-3b68-4325-a120-8582eba5bc94"
      },
      "outputs": [
        {
          "output_type": "execute_result",
          "data": {
            "text/plain": [
              "1"
            ]
          },
          "metadata": {},
          "execution_count": 67
        }
      ],
      "source": [
        "# Listele sunt indexate de la 0\n",
        "\n",
        "lista_int[0]"
      ]
    },
    {
      "cell_type": "code",
      "execution_count": null,
      "metadata": {
        "colab": {
          "base_uri": "https://localhost:8080/"
        },
        "id": "JgEDyVOOn1If",
        "outputId": "5574a28c-60e6-4237-d27d-ed90fd6ff815"
      },
      "outputs": [
        {
          "output_type": "execute_result",
          "data": {
            "text/plain": [
              "5"
            ]
          },
          "metadata": {},
          "execution_count": 68
        }
      ],
      "source": [
        "# Putem folosi indecși negativi pentru a accesa elementele de la sfârșitul listei spre început\n",
        "\n",
        "lista_int[-1]"
      ]
    },
    {
      "cell_type": "code",
      "execution_count": null,
      "metadata": {
        "colab": {
          "base_uri": "https://localhost:8080/"
        },
        "id": "YU-uIHPgn1If",
        "outputId": "5ef2fdfd-f8f5-440f-db5e-f290303d1527"
      },
      "outputs": [
        {
          "output_type": "execute_result",
          "data": {
            "text/plain": [
              "([2, 3, 4], [1, 2, 3], [4, 5], [1, 3, 5], [2, 4], [3, 4, 5])"
            ]
          },
          "metadata": {},
          "execution_count": 69
        }
      ],
      "source": [
        "# Sau putem folosi slice-uri pentru a accesa o porțiune din listă\n",
        "\n",
        "lista_int[1:4], lista_int[:3], lista_int[3:], lista_int[::2], lista_int[1:5:2], lista_int[-3:5]"
      ]
    },
    {
      "cell_type": "code",
      "execution_count": null,
      "metadata": {
        "colab": {
          "base_uri": "https://localhost:8080/",
          "height": 35
        },
        "id": "sw-0Fe1Jn1Ig",
        "outputId": "a5afdee0-8e6e-446d-bad8-fb3a5d5c00c9"
      },
      "outputs": [
        {
          "output_type": "execute_result",
          "data": {
            "text/plain": [
              "'Ana'"
            ],
            "application/vnd.google.colaboratory.intrinsic+json": {
              "type": "string"
            }
          },
          "metadata": {},
          "execution_count": 70
        }
      ],
      "source": [
        "exemplu_string = \"Ana are mere\"\n",
        "\n",
        "exemplu_string[0:3]"
      ]
    },
    {
      "cell_type": "markdown",
      "metadata": {
        "id": "Vkk4bOzIn1Ig"
      },
      "source": [
        "### <u> Operații cu liste </u>"
      ]
    },
    {
      "cell_type": "markdown",
      "metadata": {
        "id": "403CpyTTn1Ig"
      },
      "source": [
        "Operațiile de bază pe care le putem face cu liste sunt:\n",
        "* stabilirea numarului de elemente din listă - `len(lista)`\n",
        "* adăugarea unui element la finalul listei - `lista.append(element)`\n",
        "* adăugarea unui element la o anumită poziție - `lista.insert(index, element)`\n",
        "* ștergerea unui element de pe o anumită poziție - `lista.pop(index)`\n",
        "* ștergerea unui element cu o anumită valoare - `lista.remove(element)`\n",
        "* concatenarea a două liste - `lista1 + lista2`, sau `lista1.extend(lista2)`\n",
        "* repetarea unui pattern de elemente - `lista * n`\n",
        "\n",
        "Alte operații mai puțin uzuale, pot fi găsite în [Documentația Python pentru liste](https://docs.python.org/3/tutorial/datastructures.html)"
      ]
    },
    {
      "cell_type": "code",
      "execution_count": null,
      "metadata": {
        "colab": {
          "base_uri": "https://localhost:8080/"
        },
        "id": "K8JYBXPUeRjY",
        "outputId": "b1fcaaf9-ae3f-43dd-b0cc-9eaff329ac3e"
      },
      "outputs": [
        {
          "output_type": "execute_result",
          "data": {
            "text/plain": [
              "(0, 5)"
            ]
          },
          "metadata": {},
          "execution_count": 71
        }
      ],
      "source": [
        "len([]), len(lista_int)"
      ]
    },
    {
      "cell_type": "code",
      "execution_count": null,
      "metadata": {
        "colab": {
          "base_uri": "https://localhost:8080/"
        },
        "id": "ehX6UKnhn1Ih",
        "outputId": "2e309dfc-eb38-4ce2-9d5f-d067f6ee32d2"
      },
      "outputs": [
        {
          "output_type": "execute_result",
          "data": {
            "text/plain": [
              "[1, 2, 3, 4, 5, 6]"
            ]
          },
          "metadata": {},
          "execution_count": 72
        }
      ],
      "source": [
        "lista_int.append(6)\n",
        "\n",
        "lista_int"
      ]
    },
    {
      "cell_type": "markdown",
      "metadata": {
        "id": "mGZrHVxjn1Ii"
      },
      "source": [
        "---\n",
        "**Observație**:\n",
        "\n",
        "Inserarea se face intr-o maniera OOP, asupra obiectului de la referința spre care pointează lista_int.\n",
        "\n",
        "O eroare comuna este provocata de sintaxa:\n",
        "\n",
        "<code>lista_int = lista_int.append(6) - in acest caz, lista_int va deveni None, deoarece lista_int.append(6) returneaza None\n",
        "</code>\n",
        "\n",
        "___\n"
      ]
    },
    {
      "cell_type": "code",
      "execution_count": null,
      "metadata": {
        "colab": {
          "base_uri": "https://localhost:8080/"
        },
        "id": "mNR81jhtn1Ii",
        "outputId": "24fc15d5-1fdd-4371-df38-73b1d29188b5"
      },
      "outputs": [
        {
          "output_type": "execute_result",
          "data": {
            "text/plain": [
              "[1, 2, -14, 3, 4, 5, 6]"
            ]
          },
          "metadata": {},
          "execution_count": 73
        }
      ],
      "source": [
        "lista_int.insert(2, -14)\n",
        "\n",
        "lista_int"
      ]
    },
    {
      "cell_type": "code",
      "execution_count": null,
      "metadata": {
        "colab": {
          "base_uri": "https://localhost:8080/"
        },
        "id": "3fDrbwv4n1Ii",
        "outputId": "946c8dd7-4809-49fd-ec73-2b6b392ed699"
      },
      "outputs": [
        {
          "output_type": "execute_result",
          "data": {
            "text/plain": [
              "[1, 2, -14, 3, 4, 5, 6, 7, 8, 9]"
            ]
          },
          "metadata": {},
          "execution_count": 74
        }
      ],
      "source": [
        "lista_int.extend([7, 8, 9])\n",
        "\n",
        "lista_int"
      ]
    },
    {
      "cell_type": "code",
      "execution_count": null,
      "metadata": {
        "colab": {
          "base_uri": "https://localhost:8080/"
        },
        "id": "MVpFi0IIn1Ii",
        "outputId": "efb86a18-5b3b-4a83-bdea-1098d10316a7"
      },
      "outputs": [
        {
          "output_type": "execute_result",
          "data": {
            "text/plain": [
              "[1, 2, -14, 3, 4, 5, 6, 7, 8, 9, 10, 11, 12, 13, 14, 15]"
            ]
          },
          "metadata": {},
          "execution_count": 75
        }
      ],
      "source": [
        "lista_int =  lista_int + [10, 11, 12]\n",
        "lista_int += [13, 14, 15] # Mod echivalent de concatenare a listelor\n",
        "\n",
        "lista_int"
      ]
    },
    {
      "cell_type": "code",
      "execution_count": null,
      "metadata": {
        "colab": {
          "base_uri": "https://localhost:8080/"
        },
        "id": "LOMxeMbtn1Ii",
        "outputId": "e27ded13-f79c-48e8-fc20-cdfc7d19074c"
      },
      "outputs": [
        {
          "output_type": "execute_result",
          "data": {
            "text/plain": [
              "(-14, [1, 2, 3, 4, 5, 6, 7, 8, 9, 10, 11, 12, 13, 14, 15])"
            ]
          },
          "metadata": {},
          "execution_count": 76
        }
      ],
      "source": [
        "element_scos = lista_int.pop(2)\n",
        "\n",
        "element_scos, lista_int # Putem observa ca aceasta sintaxa printeaza la consola un tuplu"
      ]
    },
    {
      "cell_type": "code",
      "execution_count": null,
      "metadata": {
        "colab": {
          "base_uri": "https://localhost:8080/"
        },
        "id": "_ZOUQV9An1Ij",
        "outputId": "2f74911a-41ed-4eed-ec76-460e17577c46"
      },
      "outputs": [
        {
          "output_type": "execute_result",
          "data": {
            "text/plain": [
              "[1, 2, 3, 4, 5, 6, 8, 9, 10, 11, 12, 13, 14, 15]"
            ]
          },
          "metadata": {},
          "execution_count": 77
        }
      ],
      "source": [
        "lista_int.remove(7)\n",
        "\n",
        "lista_int"
      ]
    },
    {
      "cell_type": "code",
      "execution_count": null,
      "metadata": {
        "colab": {
          "base_uri": "https://localhost:8080/",
          "height": 35
        },
        "id": "Cnc8vMSon1Ij",
        "outputId": "69dfa4df-e382-4614-fdc2-d9ccd7609edf"
      },
      "outputs": [
        {
          "output_type": "execute_result",
          "data": {
            "text/plain": [
              "'Ana are mere...'"
            ],
            "application/vnd.google.colaboratory.intrinsic+json": {
              "type": "string"
            }
          },
          "metadata": {},
          "execution_count": 78
        }
      ],
      "source": [
        "exemplu_string += \".\" * 3\n",
        "\n",
        "exemplu_string"
      ]
    },
    {
      "cell_type": "code",
      "execution_count": null,
      "metadata": {
        "colab": {
          "base_uri": "https://localhost:8080/"
        },
        "id": "FkT33E_boXE6",
        "outputId": "1c676453-20f3-401e-9485-efbbc5865d61"
      },
      "outputs": [
        {
          "output_type": "execute_result",
          "data": {
            "text/plain": [
              "14"
            ]
          },
          "metadata": {},
          "execution_count": 79
        }
      ],
      "source": [
        "len(lista_int) # O dată cu schimbările asupra listei s-a modificat și lungimea"
      ]
    },
    {
      "cell_type": "markdown",
      "metadata": {
        "id": "ZO3wRIQMn1Ij"
      },
      "source": [
        "Listele din python suporta si operatii pe care le-ati intalnit la PP, din paradigma functionala, precum `map`, `filter`, `reduce` (echivalentul `fold` din Haskell) și `zip` (`zipWith`).\n",
        "\n",
        "Aceste functii, de obicei returneaza iteratori, pentru a economisi memorie, dar putem sa convertim rezultatele înapoi în liste folosind functia `list`:\n"
      ]
    },
    {
      "cell_type": "code",
      "execution_count": null,
      "metadata": {
        "colab": {
          "base_uri": "https://localhost:8080/"
        },
        "id": "mwtHHSL6n1Ij",
        "outputId": "81c47d73-b3b0-4cd1-d9c5-8ac554074790"
      },
      "outputs": [
        {
          "output_type": "execute_result",
          "data": {
            "text/plain": [
              "[1, 4, 9, 16, 25, 36, 64, 81, 100, 121, 144, 169, 196, 225]"
            ]
          },
          "metadata": {},
          "execution_count": 80
        }
      ],
      "source": [
        "lista_int_patrat = list(map(lambda x: x**2, lista_int)) # Observam ca putem folosi functii lambda pentru a defini in-place functii anonime\n",
        "\n",
        "lista_int_patrat"
      ]
    },
    {
      "cell_type": "code",
      "execution_count": null,
      "metadata": {
        "colab": {
          "base_uri": "https://localhost:8080/"
        },
        "id": "U4edpEZIn1Ik",
        "outputId": "fb754ace-3abe-41cb-de95-04d2596122f4"
      },
      "outputs": [
        {
          "output_type": "execute_result",
          "data": {
            "text/plain": [
              "[4, 16, 36, 64, 100, 144, 196]"
            ]
          },
          "metadata": {},
          "execution_count": 81
        }
      ],
      "source": [
        "# Filtram elementele pare din lista\n",
        "lista_int_patrat = list(filter(lambda x: x % 2 == 0, lista_int_patrat))\n",
        "\n",
        "lista_int_patrat"
      ]
    },
    {
      "cell_type": "code",
      "execution_count": null,
      "metadata": {
        "colab": {
          "base_uri": "https://localhost:8080/"
        },
        "id": "AdmNxhGin1Ik",
        "outputId": "dc48bf9d-3116-4334-8f86-cb969579ba95"
      },
      "outputs": [
        {
          "output_type": "execute_result",
          "data": {
            "text/plain": [
              "56.0"
            ]
          },
          "metadata": {},
          "execution_count": 82
        }
      ],
      "source": [
        "from functools import reduce # Importam functia reduce din modulul functools\n",
        "\n",
        "suma_radacinilor = reduce(lambda acc, elem: acc + np.sqrt(elem), lista_int_patrat, 0)\n",
        "\n",
        "suma_radacinilor"
      ]
    },
    {
      "cell_type": "markdown",
      "metadata": {
        "id": "9k1i2iRWWrZT"
      },
      "source": [
        "Alternativ, putem observa comportamentul lazy al iteratorilor, în momentul în care nu forțăm conversia la listă:"
      ]
    },
    {
      "cell_type": "code",
      "execution_count": null,
      "metadata": {
        "colab": {
          "base_uri": "https://localhost:8080/"
        },
        "id": "JDKhjH9xWrZT",
        "outputId": "79338a0d-ccab-4833-f21e-91fa68ef24b4"
      },
      "outputs": [
        {
          "output_type": "stream",
          "name": "stdout",
          "text": [
            "4\n",
            "16\n",
            "36\n",
            "64\n"
          ]
        }
      ],
      "source": [
        "lista_int_patrat2 = map(lambda x: x**2, lista_int)\n",
        "\n",
        "iterator = iter(lista_int_patrat)\n",
        "\n",
        "i = 0\n",
        "\n",
        "for elem in iterator:\n",
        "    print(elem)\n",
        "\n",
        "    if i == 3:\n",
        "        break\n",
        "\n",
        "    i += 1"
      ]
    },
    {
      "cell_type": "markdown",
      "metadata": {
        "id": "6uy99n5do2Tz"
      },
      "source": [
        "De asemenea, există conceptul de list comprehension, întâlnit anterior în Haskell. Acest concept oferă o modalitate concisă și expresivă de a crea liste noi prin aplicarea unei expresii la fiecare element al unei secvențe.\n",
        "\n",
        "Un exemplu simplu ar fi crearea unei liste care conține pătratele primelor zece numere naturale, folosind list comprehension în Python:"
      ]
    },
    {
      "cell_type": "code",
      "execution_count": null,
      "metadata": {
        "colab": {
          "base_uri": "https://localhost:8080/"
        },
        "id": "HV-7A_tZpZpg",
        "outputId": "18f174da-4962-4244-dd13-9fda594579b5"
      },
      "outputs": [
        {
          "output_type": "execute_result",
          "data": {
            "text/plain": [
              "[1, 4, 9, 16, 25, 36, 49, 64, 81, 100]"
            ]
          },
          "metadata": {},
          "execution_count": 84
        }
      ],
      "source": [
        "patrate_perfecte = [x**2 for x in range(1, 11)]\n",
        "\n",
        "patrate_perfecte"
      ]
    },
    {
      "cell_type": "markdown",
      "metadata": {
        "id": "CQtS_xPmprho"
      },
      "source": [
        "Iată un exemplu mai complex pentru generarea produsului cartezian al două liste."
      ]
    },
    {
      "cell_type": "code",
      "execution_count": null,
      "metadata": {
        "colab": {
          "base_uri": "https://localhost:8080/"
        },
        "id": "ZFXqcj__ptxq",
        "outputId": "cd0001b9-a40e-4795-d9f8-727edf710af9"
      },
      "outputs": [
        {
          "output_type": "execute_result",
          "data": {
            "text/plain": [
              "[(1, 'a'),\n",
              " (1, 'b'),\n",
              " (1, 'c'),\n",
              " (1, 'd'),\n",
              " (2, 'a'),\n",
              " (2, 'b'),\n",
              " (2, 'c'),\n",
              " (2, 'd'),\n",
              " (3, 'a'),\n",
              " (3, 'b'),\n",
              " (3, 'c'),\n",
              " (3, 'd')]"
            ]
          },
          "metadata": {},
          "execution_count": 85
        }
      ],
      "source": [
        "lista_A = [1, 2, 3]\n",
        "lista_B = ['a', 'b', 'c', 'd']\n",
        "\n",
        "produs_cartezian = [(a, b) for a in lista_A for b in lista_B]\n",
        "produs_cartezian"
      ]
    },
    {
      "cell_type": "markdown",
      "metadata": {
        "id": "uGQgqF0uqGVD"
      },
      "source": [
        "List comprehension în Python poate include și declarații if, permițând filtrarea elementelor în funcție de o anumită condiție. Iată un exemplu simplu în care se creează o listă cu pătratele numerelor pare de la 1 la 10:"
      ]
    },
    {
      "cell_type": "code",
      "execution_count": null,
      "metadata": {
        "colab": {
          "base_uri": "https://localhost:8080/"
        },
        "id": "5zp94bWsqHm1",
        "outputId": "6d4ab396-1f13-4033-c202-110a06369418"
      },
      "outputs": [
        {
          "output_type": "execute_result",
          "data": {
            "text/plain": [
              "[4, 16, 36, 64, 100, 144, 196]"
            ]
          },
          "metadata": {},
          "execution_count": 86
        }
      ],
      "source": [
        "patrate_pare = [x**2 for x in range(1, 15) if x % 2 == 0]\n",
        "\n",
        "patrate_pare"
      ]
    },
    {
      "cell_type": "markdown",
      "metadata": {
        "id": "5iYMXKeWn1Ik"
      },
      "source": [
        "### <u> Iterații prin liste </u>"
      ]
    },
    {
      "cell_type": "markdown",
      "metadata": {
        "id": "8ihgm7uJn1Ik"
      },
      "source": [
        "O altă metodă de a itera prin liste este folosind buclele `for` și `while`.\n",
        "\n",
        "Putem accesa elementele listei folosind indexul acestora, sau putem itera prin toate elementele, folosind instrucțiunea `for`."
      ]
    },
    {
      "cell_type": "code",
      "execution_count": null,
      "metadata": {
        "colab": {
          "base_uri": "https://localhost:8080/"
        },
        "id": "WPTMn3KGn1Ik",
        "outputId": "ac8fa3b0-b915-45d5-9582-7140581915cf"
      },
      "outputs": [
        {
          "output_type": "stream",
          "name": "stdout",
          "text": [
            "1\n",
            "2\n",
            "3\n",
            "4\n",
            "5\n",
            "6\n",
            "8\n",
            "9\n",
            "10\n",
            "11\n",
            "12\n",
            "13\n",
            "14\n",
            "15\n"
          ]
        }
      ],
      "source": [
        "# Iteram folosind un index de la 0, pana la lungimea listei\n",
        "for i in range(len(lista_int)):\n",
        "    print(lista_int[i])"
      ]
    },
    {
      "cell_type": "code",
      "execution_count": null,
      "metadata": {
        "colab": {
          "base_uri": "https://localhost:8080/"
        },
        "id": "JAKK5vGKdOGZ",
        "outputId": "45f3f17a-1543-43f4-c3c1-bfc0d1023574"
      },
      "outputs": [
        {
          "output_type": "stream",
          "name": "stdout",
          "text": [
            "1\n",
            "2\n",
            "3\n",
            "4\n",
            "5\n",
            "6\n",
            "8\n",
            "9\n",
            "10\n",
            "11\n",
            "12\n",
            "13\n",
            "14\n",
            "15\n"
          ]
        }
      ],
      "source": [
        "i = 0\n",
        "max_len = len(lista_int)\n",
        "\n",
        "while i < max_len:\n",
        "  print(lista_int[i])\n",
        "\n",
        "  i += 1"
      ]
    },
    {
      "cell_type": "code",
      "execution_count": null,
      "metadata": {
        "colab": {
          "base_uri": "https://localhost:8080/"
        },
        "id": "ty_GBxkAn1Il",
        "outputId": "a0b73c06-3531-4f33-afeb-c1f616ca247f"
      },
      "outputs": [
        {
          "output_type": "stream",
          "name": "stdout",
          "text": [
            "1\n",
            "2\n",
            "3\n",
            "4\n",
            "5\n",
            "6\n",
            "8\n",
            "9\n",
            "10\n",
            "11\n",
            "12\n",
            "13\n",
            "14\n",
            "15\n"
          ]
        }
      ],
      "source": [
        "for elem in lista_int:\n",
        "    print(elem)"
      ]
    },
    {
      "cell_type": "code",
      "execution_count": null,
      "metadata": {
        "colab": {
          "base_uri": "https://localhost:8080/"
        },
        "id": "hKn-k9-pn1Il",
        "outputId": "6dd3e3bf-6900-419b-e7d0-80cd0d2d9652"
      },
      "outputs": [
        {
          "output_type": "stream",
          "name": "stdout",
          "text": [
            "Elementul de pe pozitia 0 este 1\n",
            "Elementul de pe pozitia 1 este 2\n",
            "Elementul de pe pozitia 2 este 3\n",
            "Elementul de pe pozitia 3 este 4\n",
            "Elementul de pe pozitia 4 este 5\n",
            "Elementul de pe pozitia 5 este 6\n",
            "Elementul de pe pozitia 6 este 8\n",
            "Elementul de pe pozitia 7 este 9\n",
            "Elementul de pe pozitia 8 este 10\n",
            "Elementul de pe pozitia 9 este 11\n",
            "Elementul de pe pozitia 10 este 12\n",
            "Elementul de pe pozitia 11 este 13\n",
            "Elementul de pe pozitia 12 este 14\n",
            "Elementul de pe pozitia 13 este 15\n"
          ]
        }
      ],
      "source": [
        "for idx, elem in enumerate(lista_int):\n",
        "    print(f\"Elementul de pe pozitia {idx} este {elem}\")"
      ]
    },
    {
      "cell_type": "markdown",
      "metadata": {
        "id": "MAQB9KCaBK7b"
      },
      "source": [
        "În cazul în care vrem să folosim blocuri de instrucțiuni (for, while, if) imbricate, apartenența codului într-un anumit bloc se face prin nivelul indentării:"
      ]
    },
    {
      "cell_type": "code",
      "execution_count": null,
      "metadata": {
        "colab": {
          "base_uri": "https://localhost:8080/"
        },
        "id": "9_Rv7IijBjOI",
        "outputId": "6f050744-db98-421b-ab72-7afee0daf4bb"
      },
      "outputs": [
        {
          "output_type": "stream",
          "name": "stdout",
          "text": [
            "1 1 3 \n",
            "16 2 6 \n",
            "49 4 9 \n",
            "100 5 12 \n"
          ]
        }
      ],
      "source": [
        "# Definim o matrice ca o listă de liste\n",
        "\n",
        "matrice = [[1,2,3], [4,5,6], [7,8,9], [10,11,12]]\n",
        "\n",
        "inaltime = len(matrice)\n",
        "latime = len(matrice[0])\n",
        "\n",
        "# Vrem sa printam multiplii de 3, patratul numerelor de forma 3k+1, si jumătatea întreagă a numerelor de forma 3k+2\n",
        "for i in range(inaltime):\n",
        "  # Se observa ca bucla j este în interiorul buclei for datorită indentării\n",
        "  for j in range(latime):\n",
        "    # Analog observam identarea instructiunilor if-else la acelasi nivel, in interiorul ambelor blocuri for\n",
        "    x = matrice[i][j]\n",
        "    if x % 3 == 0:\n",
        "      print(x, end=\" \")\n",
        "    elif x % 3 == 1: # Exista instructiunea elif\n",
        "      print(x**2, end=\" \")\n",
        "    else:\n",
        "      print(x//2, end=\" \")\n",
        "\n",
        "  # Observăm că acest print face parte doar din blocul exterior for\n",
        "  print()"
      ]
    },
    {
      "cell_type": "markdown",
      "metadata": {
        "id": "SPpdkzKmLZG1"
      },
      "source": [
        "### <u> Operații cu stringuri </u>"
      ]
    },
    {
      "cell_type": "markdown",
      "metadata": {
        "id": "VP3vEyCnMSm0"
      },
      "source": [
        "Operațiile de bază pe care le putem efectua cu stringuri sunt:\n",
        "* conversia în ASCII a literelor - `ord(char)`\n",
        "* tokenizarea sirului pe baza unui caracter separator - `string.split(separator)`\n",
        "* reconstruirea textului pe baza tokenilor - `\"separator\".join(lista_tokeni)`\n",
        "* convertirea case-ului stringului - `string.upper()`, `string.lower()`, `string.capitalize()`\n",
        "* găsirea unui subsir într-un string - `string.find(substring)`\n",
        "* alternativ, verificarea dacă un string conține un anumit subsir - `substring in string`\n",
        "* înlocuirea unui subsir cu altul - `string.replace(substring, new_substring)`\n",
        "* ștergerea spațierii de formatare (en. whitespaces) de la începutul și sfârșitul șirului - `string.strip()`\n",
        "* formatarea unui string - `string.format()` Prezentată anterior la formatarea printării :-)\n",
        "\n",
        "Alte operații mai puțin uzuale, pot fi găsite în [Documentația Python pentru stringuri](https://docs.python.org/3/library/string.html).\n",
        "\n",
        "O bibliotecă importantă în preprocesarea textelor pentru analiza limbajului natural (NLP) este reprezentată de \"re\", funcționalități disponibile prin re, sunt:\n",
        "* căutarea unui pattern într-un string - `re.search(pattern, string)`\n",
        "* găsirea tuturor aparițiilor unui pattern într-un string - `re.findall(pattern, string)`\n",
        "* înlocuirea unui pattern cu altul - `re.sub(pattern, new_pattern, string)`\n",
        "* tokenizarea unui string pe baza unui pattern - `re.split(pattern, string)`\n",
        "\n",
        "Avantajul utilizării bibliotecii `re` este reprezentat de posibilitatea identificării unor RegEx-uri, prin `pattern`.\n",
        "\n",
        "Un link foarte util pentru mai buna înțelegere a RegEx-urilor din `re` se găsește pe [W3schools](https://www.w3schools.com/python/python_regex.asp).\n",
        "\n",
        "O altă bibliotecă utilizată în preprocesare, mai ales pentru taskuri în limba română este reprezentată de `unidecode`, care are rolul de a substitui diacritele cu echivalentul lor din alfabetul latin care încape pe un octet."
      ]
    },
    {
      "cell_type": "markdown",
      "metadata": {
        "id": "0re4BO7n8W80"
      },
      "source": [
        "___\n",
        "**Observație:** Spre deosebire de metodele aplicate asupra listelor, metodele aplicate stringurilor nu execută modificări in-place, ci produc un nou string care are caracteristicile dorite.\n",
        "\n",
        "---"
      ]
    },
    {
      "cell_type": "code",
      "execution_count": null,
      "metadata": {
        "colab": {
          "base_uri": "https://localhost:8080/"
        },
        "id": "l63HkuEM6LHS",
        "outputId": "348a836d-fcf8-44c2-b89c-4bd8c6396c71"
      },
      "outputs": [
        {
          "output_type": "execute_result",
          "data": {
            "text/plain": [
              "65"
            ]
          },
          "metadata": {},
          "execution_count": 92
        }
      ],
      "source": [
        "ord('A')"
      ]
    },
    {
      "cell_type": "code",
      "execution_count": null,
      "metadata": {
        "id": "qeITbdEcqnXL"
      },
      "outputs": [],
      "source": [
        "demo_text = \"Userii @Cătă și @Mihai speră să vă bucurați de acest laborator :D\""
      ]
    },
    {
      "cell_type": "code",
      "execution_count": null,
      "metadata": {
        "colab": {
          "base_uri": "https://localhost:8080/"
        },
        "id": "YGXn86iSrKD7",
        "outputId": "0b439944-a9d4-4d24-f394-d9f471da81b6"
      },
      "outputs": [
        {
          "output_type": "execute_result",
          "data": {
            "text/plain": [
              "['Userii',\n",
              " '@Cătă',\n",
              " 'și',\n",
              " '@Mihai',\n",
              " 'speră',\n",
              " 'să',\n",
              " 'vă',\n",
              " 'bucurați',\n",
              " 'de',\n",
              " 'acest',\n",
              " 'laborator',\n",
              " ':D']"
            ]
          },
          "metadata": {},
          "execution_count": 94
        }
      ],
      "source": [
        "lista_cuvinte = demo_text.split(\" \")\n",
        "\n",
        "lista_cuvinte"
      ]
    },
    {
      "cell_type": "code",
      "execution_count": null,
      "metadata": {
        "colab": {
          "base_uri": "https://localhost:8080/",
          "height": 35
        },
        "id": "VYivgUFhsFvt",
        "outputId": "c013f3d0-8ec7-4952-989d-da7959f94745"
      },
      "outputs": [
        {
          "output_type": "execute_result",
          "data": {
            "text/plain": [
              "'Userii @Cătă și @Mihai speră să vă bucurați de acest laborator :D'"
            ],
            "application/vnd.google.colaboratory.intrinsic+json": {
              "type": "string"
            }
          },
          "metadata": {},
          "execution_count": 95
        }
      ],
      "source": [
        "textul_reconstruit = \" \".join(lista_cuvinte)\n",
        "\n",
        "textul_reconstruit"
      ]
    },
    {
      "cell_type": "code",
      "execution_count": null,
      "metadata": {
        "colab": {
          "base_uri": "https://localhost:8080/"
        },
        "id": "ofO1B7Zks6hg",
        "outputId": "865e4538-fb15-44ed-ebd9-9d10c5e3fccd"
      },
      "outputs": [
        {
          "output_type": "stream",
          "name": "stdout",
          "text": [
            "userii @cătă și @mihai speră să vă bucurați de acest laborator :d\n",
            "USERII @CĂTĂ ȘI @MIHAI SPERĂ SĂ VĂ BUCURAȚI DE ACEST LABORATOR :D\n",
            "Userii @cătă și @mihai speră să vă bucurați de acest laborator :d\n"
          ]
        }
      ],
      "source": [
        "print(demo_text.lower())\n",
        "print(demo_text.upper())\n",
        "print(demo_text.lower().capitalize())"
      ]
    },
    {
      "cell_type": "code",
      "execution_count": null,
      "metadata": {
        "colab": {
          "base_uri": "https://localhost:8080/"
        },
        "id": "dYOfaZJkt_C9",
        "outputId": "8bef2dd0-c443-4df0-c769-37be8b777193"
      },
      "outputs": [
        {
          "output_type": "stream",
          "name": "stdout",
          "text": [
            "Rezultatele cautarii unui substring existent in text: False și indexul la care se găsește: -1 (re: None)\n",
            "Rezultatele cautarii unui substring inexistent in text: False și indexul la care se găsește: -1 (re: None)\n"
          ]
        }
      ],
      "source": [
        "print(f\"Rezultatele cautarii unui substring existent in text:\", \"@Cata\" in demo_text, \"și indexul la care se găsește:\", demo_text.find(\"@Cata\"), \"(re: {})\".format(re.search(\"@Cata\", demo_text)))\n",
        "print(f\"Rezultatele cautarii unui substring inexistent in text:\", \"@Catalin\" in demo_text, \"și indexul la care se găsește:\", demo_text.find(\"@Catalin\"), \"(re: {})\".format(re.search(\"@Catalin\", demo_text)))"
      ]
    },
    {
      "cell_type": "code",
      "execution_count": null,
      "metadata": {
        "colab": {
          "base_uri": "https://localhost:8080/"
        },
        "id": "xpdAZ_3s751s",
        "outputId": "332853b9-e308-41ac-fc4c-050b98486b26"
      },
      "outputs": [
        {
          "output_type": "stream",
          "name": "stdout",
          "text": [
            "Userii @Cătă și @Mihai speră să vă bucurați de acest material :D\n",
            "Userii @Cătă și @Mihai speră să vă bucurați de acest laborator :D\n"
          ]
        }
      ],
      "source": [
        "print(demo_text.replace(\"laborator\", \"material\"))\n",
        "\n",
        "print(demo_text) # Deși am făcut replace anterior, demo_text rămâne nemodificat\n",
        "                 # așa cum am precizat și în observația de mai sus"
      ]
    },
    {
      "cell_type": "code",
      "execution_count": null,
      "metadata": {
        "colab": {
          "base_uri": "https://localhost:8080/"
        },
        "id": "umJ2pFzXuK8E",
        "outputId": "15cb627f-3669-445b-9b03-d20be5527658"
      },
      "outputs": [
        {
          "output_type": "stream",
          "name": "stdout",
          "text": [
            " Userii @Cătă și @Mihai speră să vă bucurați de acest laborator :D \n",
            "Userii @Cătă și @Mihai speră să vă bucurați de acest laborator :D\n"
          ]
        }
      ],
      "source": [
        "textul_reconstruit = \" \" + textul_reconstruit + \" \"\n",
        "\n",
        "print(textul_reconstruit)\n",
        "print(textul_reconstruit.strip())"
      ]
    },
    {
      "cell_type": "code",
      "execution_count": null,
      "metadata": {
        "colab": {
          "base_uri": "https://localhost:8080/",
          "height": 35
        },
        "id": "yC4eMjd49sAE",
        "outputId": "49b3cd04-3ba8-47e4-89b1-330b8372d8c2"
      },
      "outputs": [
        {
          "output_type": "execute_result",
          "data": {
            "text/plain": [
              "'Userii Cătă și Mihai speră să vă bucurați de acest laborator :D'"
            ],
            "application/vnd.google.colaboratory.intrinsic+json": {
              "type": "string"
            }
          },
          "metadata": {},
          "execution_count": 100
        }
      ],
      "source": [
        "# RegEx care indică eliminarea @ și păstrarea numelor\n",
        "demo_text_fara_useri = re.sub(r'@(\\w+)', r'\\1', demo_text)\n",
        "\n",
        "demo_text_fara_useri"
      ]
    },
    {
      "cell_type": "code",
      "execution_count": null,
      "metadata": {
        "colab": {
          "base_uri": "https://localhost:8080/",
          "height": 35
        },
        "id": "i7GGr4mw-FSF",
        "outputId": "56d5f37c-120c-41fe-e789-a1d6b07b098b"
      },
      "outputs": [
        {
          "output_type": "execute_result",
          "data": {
            "text/plain": [
              "'Userii  și  speră să vă bucurați de acest laborator :D'"
            ],
            "application/vnd.google.colaboratory.intrinsic+json": {
              "type": "string"
            }
          },
          "metadata": {},
          "execution_count": 101
        }
      ],
      "source": [
        "# RegEx care indică eliminarea @user complet\n",
        "demo_text_fara_useri2 = re.sub(r'@(\\w+)', '', demo_text)\n",
        "\n",
        "demo_text_fara_useri2"
      ]
    },
    {
      "cell_type": "markdown",
      "metadata": {
        "id": "sn_dON24-XJW"
      },
      "source": [
        "> Importanța unor astfel de procesări poate consta în anonimizarea persoanelor dintr-un dataset de tweeturi, spre exemplu."
      ]
    },
    {
      "cell_type": "code",
      "execution_count": null,
      "metadata": {
        "colab": {
          "base_uri": "https://localhost:8080/",
          "height": 35
        },
        "id": "nWpybafG7ToG",
        "outputId": "f7c61e3e-102c-4fca-b1f2-92b49a27ea42"
      },
      "outputs": [
        {
          "output_type": "execute_result",
          "data": {
            "text/plain": [
              "'Userii @Cata si @Mihai spera sa va bucurati de acest laborator :D'"
            ],
            "application/vnd.google.colaboratory.intrinsic+json": {
              "type": "string"
            }
          },
          "metadata": {},
          "execution_count": 102
        }
      ],
      "source": [
        "unidecode(demo_text)"
      ]
    },
    {
      "cell_type": "markdown",
      "metadata": {
        "id": "7x9qnSHzyIf-"
      },
      "source": [
        "# <u> Dicționare  </u>"
      ]
    },
    {
      "cell_type": "markdown",
      "metadata": {
        "id": "EUdZEPjhyIf_"
      },
      "source": [
        "Asociază o cheie cu o valoare, valoarea putând fi orice obiect Python. Totuși, cheia trebuie să fie un obiect imutabil (hashable), cum ar fi un string, un număr sau un tuplu."
      ]
    },
    {
      "cell_type": "code",
      "execution_count": null,
      "metadata": {
        "id": "kn4X5ImoyIf_",
        "outputId": "c10bcfba-6c59-4e7f-8921-fcfbe8f97969",
        "colab": {
          "base_uri": "https://localhost:8080/"
        }
      },
      "outputs": [
        {
          "output_type": "execute_result",
          "data": {
            "text/plain": [
              "{'Mihai': 10,\n",
              " 'Andreea': 10,\n",
              " 'Andrei': 8,\n",
              " 'Marcela': 7,\n",
              " 'Rodica': 9,\n",
              " 'Catalin': 8}"
            ]
          },
          "metadata": {},
          "execution_count": 103
        }
      ],
      "source": [
        "note_dict = {\"Mihai\": 10, \"Andreea\": 10, \"Andrei\": 8, \"Marcela\": 7, \"Rodica\": 9, \"Catalin\": 8}\n",
        "\n",
        "note_dict"
      ]
    },
    {
      "cell_type": "code",
      "execution_count": null,
      "metadata": {
        "id": "xP_RoCAQyIf_"
      },
      "outputs": [],
      "source": [
        "dict_tuples = {(1,2,3): 2, (4,5,6): 5}"
      ]
    },
    {
      "cell_type": "code",
      "execution_count": null,
      "metadata": {
        "id": "LYlyDT6myIgA",
        "outputId": "7739be16-5d42-41ab-be85-cb4c0af7f033",
        "colab": {
          "base_uri": "https://localhost:8080/",
          "height": 141
        }
      },
      "outputs": [
        {
          "output_type": "error",
          "ename": "TypeError",
          "evalue": "unhashable type: 'list'",
          "traceback": [
            "\u001b[0;31m---------------------------------------------------------------------------\u001b[0m",
            "\u001b[0;31mTypeError\u001b[0m                                 Traceback (most recent call last)",
            "\u001b[0;32m<ipython-input-105-e30f4d7fa54b>\u001b[0m in \u001b[0;36m<cell line: 0>\u001b[0;34m()\u001b[0m\n\u001b[0;32m----> 1\u001b[0;31m \u001b[0mdict_lists\u001b[0m \u001b[0;34m=\u001b[0m \u001b[0;34m{\u001b[0m\u001b[0;34m[\u001b[0m\u001b[0;36m1\u001b[0m\u001b[0;34m,\u001b[0m\u001b[0;36m2\u001b[0m\u001b[0;34m,\u001b[0m\u001b[0;36m3\u001b[0m\u001b[0;34m]\u001b[0m\u001b[0;34m:\u001b[0m \u001b[0;36m2\u001b[0m\u001b[0;34m,\u001b[0m \u001b[0;34m[\u001b[0m\u001b[0;36m4\u001b[0m\u001b[0;34m,\u001b[0m\u001b[0;36m5\u001b[0m\u001b[0;34m,\u001b[0m\u001b[0;36m6\u001b[0m\u001b[0;34m]\u001b[0m\u001b[0;34m:\u001b[0m \u001b[0;36m5\u001b[0m\u001b[0;34m}\u001b[0m\u001b[0;34m\u001b[0m\u001b[0;34m\u001b[0m\u001b[0m\n\u001b[0m",
            "\u001b[0;31mTypeError\u001b[0m: unhashable type: 'list'"
          ]
        }
      ],
      "source": [
        "dict_lists = {[1,2,3]: 2, [4,5,6]: 5}"
      ]
    },
    {
      "cell_type": "markdown",
      "metadata": {
        "id": "gNZ2vFIdyIgA"
      },
      "source": [
        "Putem observa că putem construi un dicționar folosind tupluri drept chei, dar nu putem folosi liste, deoarece acestea sunt mutabile.\n",
        "\n",
        "Solulția pentru a folosi listele pe post de chei este de a le transforma în tupluri:"
      ]
    },
    {
      "cell_type": "code",
      "execution_count": null,
      "metadata": {
        "id": "63HxZshJWrZZ"
      },
      "outputs": [],
      "source": [
        "dict_lists = {tuple([1,2,3]): 2, tuple([4,5,6]): 5}"
      ]
    },
    {
      "cell_type": "markdown",
      "metadata": {
        "id": "yEGy0JZayIgA"
      },
      "source": [
        "În ceea ce privește operațiile de bază, dicționarele prezintă următoarele metode:\n",
        "* adăugarea unei perechi cheie-valoare - `dict[key] = value`\n",
        "* obținerea valorii asociate unei chei - `dict[key]`\n",
        "* verificarea existenței unei chei în dicționar - `key in dict`\n",
        "* ștergerea unei perechi cheie-valoare - `del dict[key]`\n",
        "* obținerea unei liste cu toate cheile, valorile sau tuplurile cheie-valoare - `dict.keys()` / `dict.values()` / `dict.items()`\n",
        "\n",
        "\n",
        "Principalul motiv ce favorizează folosirea dicționarelor constă [complexitatea de căutare](https://wiki.python.org/moin/TimeComplexity) O(1) a valorilor pe baza cheilor."
      ]
    },
    {
      "cell_type": "code",
      "execution_count": null,
      "metadata": {
        "id": "ix6NpmZeyIgB"
      },
      "outputs": [],
      "source": [
        "note_dict[\"Rodica\"]"
      ]
    },
    {
      "cell_type": "code",
      "execution_count": null,
      "metadata": {
        "id": "LAEcTimWyIgC"
      },
      "outputs": [],
      "source": [
        "# Inseram cheia \"Ion\" cu valoarea 3 in dictionar\n",
        "note_dict[\"Ion\"] = 3\n",
        "\n",
        "# Aceeasi operatie poate fi folosita pentru a modifica valoarea unei chei existente\n",
        "note_dict[\"Ion\"] = 7\n",
        "\n",
        "note_dict"
      ]
    },
    {
      "cell_type": "code",
      "execution_count": null,
      "metadata": {
        "id": "WmfXFLwfyIgC"
      },
      "outputs": [],
      "source": [
        "# Pentru a sterge o intrare din dictionar, întâi verificăm dacă cheia există, pentru a nu genera excepții\n",
        "\n",
        "if \"Ion\" in note_dict:\n",
        "    del note_dict[\"Ion\"]\n",
        "\n",
        "note_dict"
      ]
    },
    {
      "cell_type": "markdown",
      "metadata": {
        "id": "2_COjeHFyIgD"
      },
      "source": [
        "Observăm că, deși noțiunea de hashmap nu este ordonată, dicționarele din Python păstrează ordinea de inserare a elementelor."
      ]
    },
    {
      "cell_type": "code",
      "execution_count": null,
      "metadata": {
        "id": "IYdOhahyyIgD"
      },
      "outputs": [],
      "source": [
        "note_dict.keys()"
      ]
    },
    {
      "cell_type": "code",
      "execution_count": null,
      "metadata": {
        "id": "9iz5dHwLyIgD"
      },
      "outputs": [],
      "source": [
        "note_dict.values()"
      ]
    },
    {
      "cell_type": "code",
      "execution_count": null,
      "metadata": {
        "id": "HnO9dz_qyIgD"
      },
      "outputs": [],
      "source": [
        "note_dict.items()"
      ]
    },
    {
      "cell_type": "markdown",
      "metadata": {
        "id": "5c71gRN4yIgE"
      },
      "source": [
        "Vom normaliza notele studenților de la scala 1-10 la scala 1-5:\n",
        "\n",
        "f(x) = ax + b\n",
        "\n",
        "\n",
        "f(1) = a + b = 1 &emsp;&emsp; => a = $\\frac{4}{9}$, b = $\\frac{5}{9}$\n",
        "\n",
        "f(10) = 10a + b = 5\n",
        "\n"
      ]
    },
    {
      "cell_type": "code",
      "execution_count": null,
      "metadata": {
        "id": "9JJj_gYoyIgE"
      },
      "outputs": [],
      "source": [
        "# Obținem valoarea maximă din dicționar\n",
        "a = 4 / 9\n",
        "b = 5 / 9\n",
        "\n",
        "scala_noua1 = {}\n",
        "\n",
        "\n",
        "# Iterăm peste toate cheile și actualizăm valorile:\n",
        "for key in note_dict:\n",
        "    scala_noua1[key] = round(a * note_dict[key]  + b, 2)\n",
        "\n",
        "scala_noua1"
      ]
    },
    {
      "cell_type": "markdown",
      "metadata": {
        "id": "scWWVqLGyIgE"
      },
      "source": [
        "Există posibilitatea de comprehension și pentru dicționare:"
      ]
    },
    {
      "cell_type": "code",
      "execution_count": null,
      "metadata": {
        "id": "nlZMv6asyIgE"
      },
      "outputs": [],
      "source": [
        "scala_noua2 = {key: round(a * note_dict[key]  + b, 2) for key in note_dict}\n",
        "\n",
        "scala_noua2"
      ]
    },
    {
      "cell_type": "markdown",
      "metadata": {
        "id": "f2rid5FxWrZa"
      },
      "source": [
        "Sau:"
      ]
    },
    {
      "cell_type": "code",
      "execution_count": null,
      "metadata": {
        "id": "pQ15Mh35WrZb"
      },
      "outputs": [],
      "source": [
        "lista_nume = [\"Dan\", \"Andrei\", \"Ion\"]\n",
        "lista_note = [10, 9, 8]\n",
        "\n",
        "lista_tuplu = list(zip(lista_nume, lista_note))\n",
        "\n",
        "dict_comp_exemplu = {k:v for k, v in lista_tuplu}\n",
        "\n",
        "dict_comp_exemplu"
      ]
    },
    {
      "cell_type": "markdown",
      "metadata": {
        "id": "0mqpB1jLyIgF"
      },
      "source": [
        "**[AVANSAT]** Așa cum putem defini o matrice ca o listă de liste și o putem parsa folosind alte module de algebră liniară `(numpy, pytorch)`, putem defini și dicționare de dicționare, care să fie convertite în DataFrame-uri multi-index folosind `pandas`.\n",
        "\n",
        "Totuși, cu biblioteca `pandas` și multi-indexing vom lucra mai târziu. :-)"
      ]
    },
    {
      "cell_type": "code",
      "execution_count": null,
      "metadata": {
        "id": "u2KNZMiAyIgF"
      },
      "outputs": [],
      "source": [
        "scoli_dict = {\"Colegiul National Iași\": {\"Mihai\": {\"Informatică\":10, \"Matematică\":10, \"Istorie\":10}, \"Elena\":{\"Informatică\":7, \"Matematică\":10, \"Istorie\":9}}, \"Colegiul National București\": {\"Andreea\": {\"Informatică\":10, \"Matematică\":10, \"Istorie\":10}, \"Flavius\":{\"Informatică\":6, \"Matematică\":8, \"Istorie\":10}}}\n",
        "\n",
        "# Create a multi-index DataFrame from the dictionary\n",
        "scoli_df = pd.DataFrame.from_dict({(i,j): scoli_dict[i][j]\n",
        "                           for i in scoli_dict.keys()\n",
        "                           for j in scoli_dict[i].keys()},\n",
        "                       orient='index')\n",
        "\n",
        "scoli_df"
      ]
    },
    {
      "cell_type": "markdown",
      "metadata": {
        "id": "xP3mDiGyWrZb"
      },
      "source": [
        "O altă utilitate a dicționarelor de dicționare este stocarea în format JSON."
      ]
    },
    {
      "cell_type": "code",
      "execution_count": null,
      "metadata": {
        "id": "Z0JaBbFkWrZb"
      },
      "outputs": [],
      "source": [
        "import json\n",
        "\n",
        "with open(\"scoli.json\", \"w\") as outfile:\n",
        "    json.dump(scoli_dict, outfile)\n"
      ]
    },
    {
      "cell_type": "markdown",
      "metadata": {
        "id": "oEWJcvV576Ej"
      },
      "source": [
        "# <u>Numpy</u>"
      ]
    },
    {
      "cell_type": "markdown",
      "metadata": {
        "id": "nNRMEdZq8Lvm"
      },
      "source": [
        "Numpy este o bibliotecă de bază pentru calculul științific în Python. Ea oferă suport pentru vectori și matrice, împreună cu funcții matematice pentru a opera asupra acestora, precum și funcții de algebră liniară și rezolvare de ecuații."
      ]
    },
    {
      "cell_type": "markdown",
      "metadata": {
        "id": "K-G69A998laP"
      },
      "source": [
        "Există foarte multe funcționalități oferite de numpy și vă îndrumăm să explorați [Documentația Numpy](https://numpy.org/doc/stable/user/basics.html) de câte ori aveți nevoie."
      ]
    },
    {
      "cell_type": "markdown",
      "metadata": {
        "id": "ZRz-i2FE-suH"
      },
      "source": [
        "Dintre funcționalitățile utilizate frecvent putem enumera:\n",
        "* crearea de vectori și matrice - `np.array()`, `np.zeros()`, `np.ones()`, `np.tril()`, `np.triu()`, `np.arange()`, `np.linspace()`\n",
        "* operații matematice - `np.add()`, `np.subtract()`, `np.multiply()`, `np.divide()`, `np.dot()`, `np.matmul()` (sau in-line `@`), `np.transpose()` (sau `vector.T`)\n",
        "* funcții matematice - `np.exp()`, `np.log()`, `np.sin()`, `np.cos()`, `np.tan()`, `np.sqrt()`\n",
        "* funcții de agregare - `np.sum()`, `np.mean()`, `np.std()`, `np.var()`, `np.max()`, `np.min()`\n",
        "* funcții de manipulare a formei - `np.reshape()`, `np.concatenate()`, `np.split()`, `np.vstack()`, `np.hstack()`\n",
        "* funcții de manipulare a dimensiunilor - `np.squeeze()`, `np.unsqueeze()`\n",
        "* funcții de comparare - `np.equal()`, `np.not_equal()`, `np.greater()`, `np.greater_equal()`, `np.less()`, `np.less_equal()`, `np.all()`, `np.any()`\n",
        "* funcții de filtrare - `np.where()`, `np.argmax()`, `np.argmin()`\n",
        "* funcții de randomizare - `np.random.rand()`, `np.random.randn()`, `np.random.randint()`, `np.random.choice()`, `np.random.shuffle()`\n",
        "* funcții de algebra liniară - `np.linalg.inv()`, `np.linalg.det()`, `np.linalg.eig()`, `np.linalg.svd()`, `np.linalg.solve()`\n",
        "* funcții de statistici - `np.percentile()`, `np.histogram()`, `np.cov()`, `np.corrcoef()`\n",
        "* funcții de serializare - `np.save()`, `np.load()`, `np.savez()`, `np.loadz()`\n",
        "* funcții de manipulare a tipurilor de date - `np.astype()`, `np.asarray()`, `np.copy()`, `np.view()`"
      ]
    },
    {
      "cell_type": "markdown",
      "metadata": {
        "id": "-_I9-PoH_TPd"
      },
      "source": [
        "Să revenim la exercițiul anterior în care doream să rescalăm notele din intervalul [1, 10] în [1, 5].\n",
        "\n",
        "Putem rezolva problema matriceal, automat, în locul substituției analitice:\n",
        "\n",
        "a + b = 1\n",
        "\n",
        "10a + b = 5\n",
        "\n",
        "Se poate scrie:\n",
        "\n",
        "$$\n",
        "\\left(\\begin{array}{cc}\n",
        "1 & 1\\\\\n",
        "10 & 1\n",
        "\\end{array}\\right)\n",
        "\\left(\\begin{array}{cc}\n",
        "a \\\\\n",
        "b\n",
        "\\end{array}\\right)\n",
        "=\n",
        "\\left(\\begin{array}{cc}\n",
        "1 \\\\\n",
        "5\n",
        "\\end{array}\\right)\n",
        "$$\n",
        "\n",
        "În formă matriceală compactă, notăm:\n",
        "\n",
        "$$Ax = y \\implies x = A^{-1}y$$"
      ]
    },
    {
      "cell_type": "code",
      "execution_count": null,
      "metadata": {
        "id": "QUj3rcUv_Ss1"
      },
      "outputs": [],
      "source": [
        "A = [[1, 1], [10, 1]]\n",
        "y = [1,5]\n",
        "\n",
        "# Convertim matricea și vectorul în obiecte din numpy\n",
        "A = np.array(A)\n",
        "y = np.array(y)\n",
        "\n",
        "x = np.linalg.inv(A) @ y.T # L-am facut pe y vector coloana prin transpunere\n",
        "\n",
        "a, b = x[0], x[1]\n",
        "\n",
        "a, b"
      ]
    },
    {
      "cell_type": "code",
      "execution_count": null,
      "metadata": {
        "id": "nnfkBOQhCpGd"
      },
      "outputs": [],
      "source": [
        "# Pentru a obține dimensiunile unui vector în numpy:\n",
        "inaltime, latime = A.shape\n",
        "\n",
        "inaltime, latime"
      ]
    },
    {
      "cell_type": "code",
      "execution_count": null,
      "metadata": {
        "id": "G6IsACwkC8OO"
      },
      "outputs": [],
      "source": [
        "# Daca vectorul este unidimensional, el va avea o dimensiune goală\n",
        "# Iar atribuirea inaltime, latime = y.shape va produce o eroare referitoare la numărul de valori pe care vrem să le extragem\n",
        "y.shape, y.T.shape"
      ]
    },
    {
      "cell_type": "code",
      "execution_count": null,
      "metadata": {
        "id": "3E97E6vvDRsn"
      },
      "outputs": [],
      "source": [
        "# Pentru a obține y de 2 dimensiuni, folosim comanda np.nexaxis, care mai adaugă un rând de parantezări în interiorul vectorului\n",
        "y = y[:, np.newaxis]\n",
        "y.shape"
      ]
    },
    {
      "cell_type": "markdown",
      "metadata": {
        "id": "8sr_6UTQEZ3w"
      },
      "source": [
        "În exemplul următor vom explora capacitatea de slicing oferită de numpy:"
      ]
    },
    {
      "cell_type": "code",
      "execution_count": null,
      "metadata": {
        "id": "9IvkIBFxEwBN"
      },
      "outputs": [],
      "source": [
        "# Creăm o matrice 4x4 cu valori de la 1 la 16\n",
        "X = np.arange(1, 17).reshape(4, 4)\n",
        "\n",
        "X"
      ]
    },
    {
      "cell_type": "code",
      "execution_count": null,
      "metadata": {
        "id": "YN-PJ2UVE51t"
      },
      "outputs": [],
      "source": [
        "# Putem extrage din această matrice cele 2 rânduri de la mijloc și ultimele 3 coloane\n",
        "X_mic = X[1:3, 1:]\n",
        "\n",
        "X_mic"
      ]
    },
    {
      "cell_type": "markdown",
      "metadata": {
        "id": "_ZU_MRGKFQHt"
      },
      "source": [
        "În numpy, indexarea se face tot de la 0.\n",
        "\n",
        "Slicing-ul `start:stop` semnifică colectarea tuturor indecșilor cu proprietatea:\n",
        "$$start \\leq i < stop$$\n",
        "\n",
        "și poate fi folosit și de la sfârșit spre început folosind indecși negativi și aceeași convenție cu startul inclus și sfârșitul exclus.\n",
        "\n",
        "În momentul când unul dintre cele două capete lipsește, slicingul va merge până ajunge la capătul dimensiunii `1:` semnifică `start = 1, stop = max_width`"
      ]
    },
    {
      "cell_type": "markdown",
      "metadata": {
        "id": "TV1WcvIRGfJ0"
      },
      "source": [
        "Totodată, aveți mare atenție asupra felului cum folosiți sliceurile. Acestea sunt transmise prin referință și vor afecta structura din care au fost decupate:"
      ]
    },
    {
      "cell_type": "code",
      "execution_count": null,
      "metadata": {
        "id": "gwzm877DGypc"
      },
      "outputs": [],
      "source": [
        "X"
      ]
    },
    {
      "cell_type": "code",
      "execution_count": null,
      "metadata": {
        "id": "kyIxHi1mG0Qc"
      },
      "outputs": [],
      "source": [
        "# Peste toată dimensiunea X_mic punem 0-uri:\n",
        "X_mic[:] = 0\n",
        "\n",
        "X_mic"
      ]
    },
    {
      "cell_type": "code",
      "execution_count": null,
      "metadata": {
        "id": "ZZk2ZbJaG81H"
      },
      "outputs": [],
      "source": [
        "X"
      ]
    },
    {
      "cell_type": "markdown",
      "metadata": {
        "id": "JqL_gXPcHV6A"
      },
      "source": [
        "Pentru a nu afecta structura lui X, ar trebui să facem o copie persistentă a regiunii decupate:"
      ]
    },
    {
      "cell_type": "code",
      "execution_count": null,
      "metadata": {
        "id": "X6OXOGk4HhhD"
      },
      "outputs": [],
      "source": [
        "# Resetăm experimentul\n",
        "X = np.arange(1, 17).reshape(4, 4)\n",
        "\n",
        "# realizăm o copie persistentă a lui X pe zona din slicing, folosind metoda deepcopy din librăria copy\n",
        "X_mic = deepcopy(X[1:3, 1:])\n",
        "\n",
        "X, X_mic"
      ]
    },
    {
      "cell_type": "code",
      "execution_count": null,
      "metadata": {
        "id": "DTrEsFCaH9MT"
      },
      "outputs": [],
      "source": [
        "X_mic[:] = 0\n",
        "\n",
        "X, X_mic"
      ]
    },
    {
      "cell_type": "markdown",
      "metadata": {
        "id": "naIO_L9JWrZe"
      },
      "source": [
        "# <u> Pandas  </u>"
      ]
    },
    {
      "cell_type": "markdown",
      "metadata": {
        "id": "9ThFlWwsWrZe"
      },
      "source": [
        "O altă bibliotecă importantă pentru lucrul cu datele în python este `pandas`.\n",
        "\n",
        "`pandas` permite încărcarea unor seturi de date într-un format tabelar, similar cu cel al unei baze de date sau al unui fișier Excel (extensii: `.csv`, `.json`, `.xlsx`)."
      ]
    },
    {
      "cell_type": "markdown",
      "metadata": {
        "id": "XTdizzZqWrZe"
      },
      "source": [
        "Pe lângă exemplele pe care vi le vom prezenta, recomandăm să explorați [Documentația Pandas](https://pandas.pydata.org/docs/user_guide/index.html#user-guide)."
      ]
    },
    {
      "cell_type": "code",
      "execution_count": null,
      "metadata": {
        "id": "sB9S9y4xWrZe"
      },
      "outputs": [],
      "source": [
        "df = pd.DataFrame({'A': [1, 2, 1], 'B': [3, 5, 6], 'C': [7, 8, 9]})\n",
        "\n",
        "df.head()"
      ]
    },
    {
      "cell_type": "markdown",
      "metadata": {
        "id": "2PoLxicpWrZe"
      },
      "source": [
        "Putem accesa elemente, linii sau coloane fie ca într-un dicționar, fie utilizând comenzile:\n",
        "* `loc`: Accesați un grup de linii sau coloane după labeluri (Am văzut anterior că acestea se pot găsi atât pe linii cât și pe coloane) sau un vector boolean de filtrare a valorilor.\n",
        "* `iloc`: Accesați un grup de linii sau coloane după indecși întregi ai pozițiilor."
      ]
    },
    {
      "cell_type": "code",
      "execution_count": null,
      "metadata": {
        "id": "W2YDix_QWrZe"
      },
      "outputs": [],
      "source": [
        "df['C']"
      ]
    },
    {
      "cell_type": "code",
      "execution_count": null,
      "metadata": {
        "id": "rnLnSPekWrZf"
      },
      "outputs": [],
      "source": [
        "# Întoarce liniile din dataframe pentru care valorile de pe coloana A sunt egale cu 1\n",
        "df.loc[df['A'] == 1]"
      ]
    },
    {
      "cell_type": "code",
      "execution_count": null,
      "metadata": {
        "id": "EBlYBKd1WrZf"
      },
      "outputs": [],
      "source": [
        "# Dintre liniile selectate anterior, întoarce valorile strict de pe coloana B\n",
        "df.loc[df['A'] == 1, 'B']"
      ]
    },
    {
      "cell_type": "code",
      "execution_count": null,
      "metadata": {
        "id": "C7FWHR2IWrZf"
      },
      "outputs": [],
      "source": [
        "# Slicing pe Dataframe utilizând iloc\n",
        "df.iloc[0:2, 1:3]"
      ]
    },
    {
      "cell_type": "markdown",
      "metadata": {
        "id": "5iUBd0owWrZf"
      },
      "source": [
        "Fiind similar unei baze de date, pandas oferă și funcționalitătți cu care v-ați întâlnit în SQL, precum:\n",
        "* `merge`: Combinarea a două DataFrames pe baza unei chei comune.\n",
        "* `groupby`: Gruparea datelor în funcție de o cheie și aplicarea unei funcții de agregare.\n"
      ]
    },
    {
      "cell_type": "code",
      "execution_count": null,
      "metadata": {
        "id": "K3kRdNnBWrZf"
      },
      "outputs": [],
      "source": [
        "# Agregăm valorile de pe coloanele B și C, grupând după valorile de pe coloana A\n",
        "df.groupby('A').sum()"
      ]
    },
    {
      "cell_type": "code",
      "execution_count": null,
      "metadata": {
        "id": "L2joVpSwWrZf"
      },
      "outputs": [],
      "source": [
        "df2 = pd.DataFrame({'A': [1, 2, 7], 'D': [10, 12, 14], 'C': [9, 4, 1]})"
      ]
    },
    {
      "cell_type": "code",
      "execution_count": null,
      "metadata": {
        "id": "zjitYQ5TWrZf"
      },
      "outputs": [],
      "source": [
        "# Facem join între două dataframe-uri pe coloana A\n",
        "# Observăm că valorile de pe coloana A care nu se potrivesc sunt eliminate\n",
        "# Având 2 coloane C, acestea sunt redenumite în C_x și C_y\n",
        "df.merge(df2, on='A')"
      ]
    },
    {
      "cell_type": "code",
      "execution_count": null,
      "metadata": {
        "id": "3Cw4QSqXWrZf"
      },
      "outputs": [],
      "source": [
        "df.merge(df2, on=['A', 'C'])"
      ]
    },
    {
      "cell_type": "markdown",
      "metadata": {
        "id": "yhveUA9aWrZg"
      },
      "source": [
        "Pandas suportă și funcționalități de manipulare a datelor:\n",
        "* `drop`: Ștergerea unei linii sau coloane.\n",
        "* `rename`: Redenumirea unei linii sau coloane.\n",
        "* `sort_values`: Sortarea datelor în funcție de o cheie.\n",
        "* `set_index`: Setarea unei coloane ca index.\n",
        "* `apply`: Aplicarea unei funcții pe coloane sau linii.\n",
        "* `fillna`: Umplerea valorilor lipsă.\n",
        "* funcții de agregare: `sum`, `mean`, `std`, `var`, `max`, `min`, `count`, `nunique`"
      ]
    },
    {
      "cell_type": "code",
      "execution_count": null,
      "metadata": {
        "id": "549cC0H4WrZg"
      },
      "outputs": [],
      "source": [
        "# Filtrăm intrările care au valori impare pentru coloanele A și B\n",
        "\n",
        "# Keep only rows with odd numbers on A and B using filter\n",
        "df.loc[df.apply(lambda x: x['A'] % 2 == 1 and x['B'] % 2 == 1, axis=1)]"
      ]
    },
    {
      "cell_type": "code",
      "execution_count": null,
      "metadata": {
        "id": "2PhFdkRuWrZg"
      },
      "outputs": [],
      "source": [
        "# Apelarea unei singure metrici agregative\n",
        "df.mean()"
      ]
    },
    {
      "cell_type": "code",
      "execution_count": null,
      "metadata": {
        "id": "HhM1H1BjWrZg"
      },
      "outputs": [],
      "source": [
        "# Describe prezintă o multitudine de metrici agregative\n",
        "df.describe()"
      ]
    },
    {
      "cell_type": "markdown",
      "metadata": {
        "id": "ZfeomWguWrZg"
      },
      "source": [
        "Nu în ultimul rând, pandas poate fi folosit pentru a vizualiza datele sub formă de grafice, integrând funcționalități din bibliotecile `matplotlib` sau `seaborn`.\n",
        "\n",
        "Totuși recomandăm direct folosirea acelor biblioteci pentru implementarea unor grafice mai complicate, deoarece avem control limitat prin pandas asupra aspectului acestora."
      ]
    },
    {
      "cell_type": "code",
      "execution_count": null,
      "metadata": {
        "id": "-k773-3EWrZg"
      },
      "outputs": [],
      "source": [
        "# Plot ilustrat direct din pandas\n",
        "df.plot()"
      ]
    },
    {
      "cell_type": "markdown",
      "metadata": {
        "id": "8LJ-DT_QyIgG"
      },
      "source": [
        "# <u> Funcții  </u>"
      ]
    },
    {
      "cell_type": "markdown",
      "metadata": {
        "id": "L0qLO6pCzBf-"
      },
      "source": [
        "În Python, în afara variabilelor de bază care sunt transmise prin valoare, toate celelalte sunt transmise prin referință.\n",
        "\n",
        "Așadar, modificările aduse obiectelor din funcții se propagă ca efecte laterale în afara funcției."
      ]
    },
    {
      "cell_type": "code",
      "execution_count": null,
      "metadata": {
        "id": "v1R8luWYzEiU"
      },
      "outputs": [],
      "source": [
        "lista_int = list(range(1, 16))"
      ]
    },
    {
      "cell_type": "code",
      "execution_count": null,
      "metadata": {
        "id": "FfkzaLeZzChL"
      },
      "outputs": [],
      "source": [
        "def demo_lateral_tipat(lista : list, elem : int) -> int:\n",
        "  lista.insert(0, elem)\n",
        "\n",
        "  return 2*elem\n",
        "\n",
        "def demo_lateral(lista, elem):\n",
        "  lista.insert(0, elem)\n",
        "\n",
        "  return 2*elem\n",
        "\n",
        "output = demo_lateral_tipat(lista_int, 30)\n",
        "\n",
        "output, lista_int"
      ]
    },
    {
      "cell_type": "markdown",
      "metadata": {
        "id": "Vm91nSomz4wD"
      },
      "source": [
        "Putem observa sintaxa unei funcții:\n",
        "* Antetul pornește cu keyword-ul `def`\n",
        "* Precum în celelalte blocuri de control, creștem identarea cu un tab pentru a semnala apartenența la blocul funcției\n",
        "* Tipul returnat de funcție este identificat de `-> tip`\n",
        "* Secvența de cod din funcție se poate termina cu return"
      ]
    },
    {
      "cell_type": "markdown",
      "metadata": {
        "id": "RavtmbQN0wsg"
      },
      "source": [
        "Această ultimă observație nu este obligatorie în general. Putem scrie funcții care nu returnează nimic per se, ci se bazează exclusiv pe efect lateral:"
      ]
    },
    {
      "cell_type": "code",
      "execution_count": null,
      "metadata": {
        "id": "BVV9zQm91BfV"
      },
      "outputs": [],
      "source": [
        "def demo_no_return(lista : list):\n",
        "  lista.append(47)\n",
        "\n",
        "# Echivalent, putem scrie și:\n",
        "def demo_no_return(lista : list):\n",
        "  lista.append(47)\n",
        "  return\n",
        "\n",
        "demo_no_return(lista_int)\n",
        "\n",
        "lista_int"
      ]
    },
    {
      "cell_type": "markdown",
      "metadata": {
        "id": "PVgBNtFQ157G"
      },
      "source": [
        "Dacă executăm:"
      ]
    },
    {
      "cell_type": "code",
      "execution_count": null,
      "metadata": {
        "id": "qa6dpcmA2ByV"
      },
      "outputs": [],
      "source": [
        "output = demo_no_return(lista_int)\n",
        "\n",
        "output, output == None"
      ]
    },
    {
      "cell_type": "markdown",
      "metadata": {
        "id": "2LCKbw7a2PIE"
      },
      "source": [
        "Ne dăm seama acum ce se petrece atunci când scriem lista = lista.append(element).\n",
        "\n",
        "Append este o metoda a clasei List ce realizeaza modificarile asupra obiectului curent prin efect lateral și nu returnează nimic."
      ]
    },
    {
      "cell_type": "markdown",
      "metadata": {
        "id": "SwtUTVOo1cbV"
      },
      "source": [
        "**[Good practice]** În general se preferă un coding style în care funcțiile să fie definite fără cod executabil sau doar cu unit teste ce îi vizează comportamentul, și de obicei se definesc helperele și funcția mare în aceeași celulă"
      ]
    },
    {
      "cell_type": "markdown",
      "metadata": {
        "id": "zws-NkF44_M4"
      },
      "source": [
        "Un Bad practice utilizat frecvent în Notebook-uri este reprezentat de utilizarea variabilelor neoferite ca parametru:"
      ]
    },
    {
      "cell_type": "code",
      "execution_count": null,
      "metadata": {
        "id": "QVtAKetw5OnM"
      },
      "outputs": [],
      "source": [
        "def demo_bad_practice(elem : int) -> int:\n",
        "  return 2*elem + var\n",
        "\n",
        "demo_bad_practice(3)"
      ]
    },
    {
      "cell_type": "markdown",
      "metadata": {
        "id": "zZT2nG0-5qwM"
      },
      "source": [
        "Funcția are acces la contextul notebook-ului și deși var nu este definit în interiorul său, îl găsește pe cel executat anterior în secțiunea de variabile: `var : int = 5` și îl folosește pe acela.\n",
        "\n",
        "Deși este foarte la îndemână acest tip de a scrie funcții, încercați să oferiți tot ce aveți nevoie ca parametru, sau să creați clase cu atribute.\n",
        "\n",
        "Acest coding style ascunde foarte bine erori și vă forțează să aveți o mai mare precauție când rulați celule de mai sus decât nivelul curent al workflow-ului."
      ]
    },
    {
      "cell_type": "markdown",
      "metadata": {
        "id": "qFjA4rA32vso"
      },
      "source": [
        "___\n",
        "Dacă dorim să returnăm mai multe valori produse în interiorul funcției, putem folosi următoarea sintaxă:\n",
        "\n"
      ]
    },
    {
      "cell_type": "code",
      "execution_count": null,
      "metadata": {
        "id": "_VnmvTNh3Cnw"
      },
      "outputs": [],
      "source": [
        "def demo_multivals(lista):\n",
        "  return len(lista), min(lista), max(lista)\n",
        "\n",
        "# Prin pattern matching, fiecarei variabile ii este atribuita o valoare din cele returnate de functie\n",
        "lungime, minim, maxim = demo_multivals(lista_int)\n",
        "\n",
        "lungime, minim, maxim"
      ]
    },
    {
      "cell_type": "code",
      "execution_count": null,
      "metadata": {
        "id": "kzPXMwtF3lwN"
      },
      "outputs": [],
      "source": [
        "#Alternativ putem scrie și\n",
        "valori = demo_multivals(lista_int)\n",
        "\n",
        "#Și să accesăm elementele din tuplul valori\n",
        "valori[0], valori[1], valori[2]"
      ]
    },
    {
      "cell_type": "markdown",
      "metadata": {
        "id": "JulctiWN4FT6"
      },
      "source": [
        "Returnarea de valori multiple se realizează prin crearea unui tuplu."
      ]
    },
    {
      "cell_type": "markdown",
      "metadata": {
        "id": "QTRrS-pud_KF"
      },
      "source": [
        "În limbajul de programare Python, putem defini o funcție care să primească un număr variabil de argumente folosind asteriscul (*) în definiția funcției. În acest caz, argumentele sunt percepute drept un tuplu (care poate avea număr variabil de elemente).\n",
        "\n",
        "Iată un exemplu simplu:"
      ]
    },
    {
      "cell_type": "code",
      "execution_count": null,
      "metadata": {
        "id": "U4F8mFPIeG1M"
      },
      "outputs": [],
      "source": [
        "def functie_cu_numar_variabil_de_argumente(*args):\n",
        "    for arg in args:\n",
        "        print(arg)\n",
        "\n",
        "# Exemplu de utilizare\n",
        "functie_cu_numar_variabil_de_argumente(1, 2, 3, 'a', 'b')\n",
        "\n",
        "# Exemplu de apel\n",
        "lista_argumente = [True, \"ana\", [1, 2, 3], 1, 'a']\n",
        "functie_cu_numar_variabil_de_argumente(*lista_argumente)"
      ]
    },
    {
      "cell_type": "markdown",
      "metadata": {
        "id": "x-rDxb3eemtf"
      },
      "source": [
        "Funcțiile în Python pot avea argumente cu valori implicite, ceea ce înseamnă că aceste argumente primesc o valoare implicită, furnizată atunci când este definită funcția, ce este folosită în cazul în care nu este furnizată o altă valoare în momentul apelului funcției. Acest lucru adaugă flexibilitate și oferă posibilitatea apelării funcției cu un număr mai mic de argumente decât numărul total de parametri."
      ]
    },
    {
      "cell_type": "code",
      "execution_count": null,
      "metadata": {
        "id": "WJppnpz1fCod"
      },
      "outputs": [],
      "source": [
        "def suma(x=0, y=1, z=2):\n",
        "  return x + y + z\n",
        "\n",
        "print(suma())\n",
        "print(suma(4))\n",
        "print(suma(4,5))\n",
        "print(suma(4,5,6))"
      ]
    },
    {
      "cell_type": "markdown",
      "metadata": {
        "id": "UNIt760JWrZj"
      },
      "source": [
        "Putem să pasăm parametrii în funcție și dintr-o listă sau un dicționar folosind `*` și `**`, eliminând un nivel de abstractizare:"
      ]
    },
    {
      "cell_type": "code",
      "execution_count": null,
      "metadata": {
        "id": "VOkM8R8BWrZj"
      },
      "outputs": [],
      "source": [
        "print(suma(*[4,5,6]))"
      ]
    },
    {
      "cell_type": "code",
      "execution_count": null,
      "metadata": {
        "id": "27OCQCzTWrZj"
      },
      "outputs": [],
      "source": [
        "dict_args = {'x': 9, 'y': 10, 'z': 11}\n",
        "\n",
        "print(suma(**dict_args))"
      ]
    },
    {
      "cell_type": "markdown",
      "metadata": {
        "id": "wl4pyQDdWrZj"
      },
      "source": [
        "**[Bad practice]** **NU** folosiți obiecte mutable ca valori implicite pentru argumente, deoarece acestea sunt evaluate o singură dată, la definirea funcției, și nu la fiecare apelare a acesteia."
      ]
    },
    {
      "cell_type": "code",
      "execution_count": null,
      "metadata": {
        "id": "2fJpsAyYWrZj"
      },
      "outputs": [],
      "source": [
        "def suma_param_mutabil(x=0, y=1, z=2, valori=[]):\n",
        "  valori.append(x+y+z)\n",
        "  print(valori, end='')\n",
        "  return valori[0]"
      ]
    },
    {
      "cell_type": "code",
      "execution_count": null,
      "metadata": {
        "id": "cdG5ZaK6WrZj"
      },
      "outputs": [],
      "source": [
        "suma_param_mutabil(1, 1, 1)"
      ]
    },
    {
      "cell_type": "code",
      "execution_count": null,
      "metadata": {
        "id": "nFyRVZJuWrZj"
      },
      "outputs": [],
      "source": [
        "suma_param_mutabil(2, 1, 5)"
      ]
    },
    {
      "cell_type": "markdown",
      "metadata": {
        "id": "BHLkqqPwfRIl"
      },
      "source": [
        "În Python, putem utiliza cuvinte cheie (keywords) pentru a furniza argumente la apelul funcțiilor. Aceasta permite specificarea valorilor pentru parametri prin numele acestora, fără a depinde strict de ordinea în care aceștia sunt definiți în funcție."
      ]
    },
    {
      "cell_type": "code",
      "execution_count": null,
      "metadata": {
        "id": "JtGv7jxufTEA"
      },
      "outputs": [],
      "source": [
        "def my_function(child3, child2, child1):\n",
        "  print(\"The youngest child is \" + child3)\n",
        "\n",
        "my_function(child1 = \"Emil\",\n",
        "            child2 = \"Alex\",\n",
        "            child3 = \"Andrei\")\n",
        "\n",
        "def my_function(**kid):\n",
        "  print(\"His last name is \" + kid[\"lname\"])\n",
        "\n",
        "my_function(fname = \"Andrei\", lname = \"Popescu\")"
      ]
    },
    {
      "cell_type": "markdown",
      "metadata": {
        "id": "jeHlib44EDRG"
      },
      "source": [
        "# <u> Tupluri  </u>"
      ]
    },
    {
      "cell_type": "markdown",
      "metadata": {
        "id": "RZ5NXuimyIgG"
      },
      "source": [
        "Precum ați văzut, pe parcursul laboratorului, tuplurile sunt obiecte similare listelor, dar sunt imutabile."
      ]
    },
    {
      "cell_type": "code",
      "execution_count": null,
      "metadata": {
        "id": "0Up8nNYzyIgH"
      },
      "outputs": [],
      "source": [
        "tuplu_error = (1,2,3)\n",
        "tuplu_error[0] = 4\n"
      ]
    },
    {
      "cell_type": "markdown",
      "metadata": {
        "id": "XeLHE9jiyIgH"
      },
      "source": [
        "Primim eroarea care ne spune că obiectul de tip tuplu nu suportă modificarea elementelor.\n",
        "\n",
        "În cazul suprascrierii tuplului, se va crea un nou obiect de tip tuplu, care va fi alocat într-o nouă zonă de memorie, iar (1, 2, 3) va fi marcat pentru garbage collection. Alternativ, putem transforma tuplul într-o listă, să facem modificările dorite și să transformăm lista înapoi într-un tuplu, însă tot se va aloca memorie pentru un nou obiect."
      ]
    },
    {
      "cell_type": "code",
      "execution_count": null,
      "metadata": {
        "id": "0ZNlBYbAWrZk"
      },
      "outputs": [],
      "source": [
        "tuplu_error = list(tuplu_error)\n",
        "tuplu_error[0] = 4\n",
        "tuplu_error = tuple(tuplu_error)\n",
        "\n",
        "tuplu_error"
      ]
    },
    {
      "cell_type": "markdown",
      "metadata": {
        "id": "llx9fQh5WrZk"
      },
      "source": [
        "Precum listele, tuplurile suportă slicing, adresarea elementelor și iterația prin elemente.\n",
        "Dar și funcții de agregare, cum ar fi `len`, `max`, `min`, `sum`."
      ]
    },
    {
      "cell_type": "code",
      "execution_count": null,
      "metadata": {
        "id": "RfSQ3Ws-WrZl"
      },
      "outputs": [],
      "source": [
        "print(tuplu_error)\n",
        "\n",
        "\n",
        "print(\"Elementele din tuplu sunt:\")\n",
        "for elem in tuplu_error:\n",
        "    print(elem)\n",
        "\n",
        "print(\"Funcții de agregare:\")\n",
        "len(()), len(tuplu_error), max(tuplu_error), min(tuplu_error)"
      ]
    },
    {
      "cell_type": "code",
      "execution_count": null,
      "metadata": {
        "id": "d0RdkqzryIgH"
      },
      "outputs": [],
      "source": [
        "tuplu_error = (1,2,3, [4,5,6])\n",
        "\n",
        "# Putem modifica în cadrul listei din tuplu, deoarece acesta reține referința către ea, iar valorile din listă sunt mutabile\n",
        "tuplu_error[3][0] = 7"
      ]
    },
    {
      "cell_type": "markdown",
      "metadata": {
        "id": "qDikeUCByIgH"
      },
      "source": [
        "Principalele moduri în care întâlnim tuplurile sunt:\n",
        "* Tuplurile rezultate din operatii de zip, enumerate, items ale unor dicționare\n",
        "* Memoizarea unei colecții de metrici corespunzătoare rulării curente a unui algoritm.\n",
        "* Returnarea mai multor valori dintr-o funcție"
      ]
    },
    {
      "cell_type": "markdown",
      "metadata": {
        "id": "7KtAUPhVyIgH"
      },
      "source": [
        "Luăm numele și notele studenților de la exemplul anterior:"
      ]
    },
    {
      "cell_type": "code",
      "execution_count": null,
      "metadata": {
        "id": "xE969tlyyIgH"
      },
      "outputs": [],
      "source": [
        "lista_tupluri_note = list(note_dict.items())\n",
        "\n",
        "lista_tupluri_note"
      ]
    },
    {
      "cell_type": "markdown",
      "metadata": {
        "id": "M7BZZF2EyIgI"
      },
      "source": [
        "Cu ajutorul unei expresii lambda, putem să sortăm lista de tupluri în funcție de un anumit criteriu, în cazul nostru, nota."
      ]
    },
    {
      "cell_type": "code",
      "execution_count": null,
      "metadata": {
        "id": "4k4clg5jyIgI"
      },
      "outputs": [],
      "source": [
        "lista_tupluri_note_sortate = sorted(lista_tupluri_note, key=lambda x: x[1]) # Pentru o sortare descrescătoare, putem folosi argumentul reverse=True\n",
        "\n",
        "lista_tupluri_note_sortate"
      ]
    },
    {
      "cell_type": "markdown",
      "metadata": {
        "id": "5WQZ4bbCyIgI"
      },
      "source": [
        "Pentru cea de-a doua funcționalitate a tuplurilor, o bibliotecă foarte utilă este reprezentată de `pickle`, care are rolul de a serializa obiecte Python, pentru a le salva în fișiere binare pe disc și a le reîncărca ulterior."
      ]
    },
    {
      "cell_type": "code",
      "execution_count": null,
      "metadata": {
        "id": "NnWOsNdgyIgI"
      },
      "outputs": [],
      "source": [
        "metrica1 = np.linspace(0, 1, 10)\n",
        "metrica2 = np.random.rand(10)\n",
        "metrica3 = np.sin(np.linspace(0, 2*np.pi, 10))"
      ]
    },
    {
      "cell_type": "code",
      "execution_count": null,
      "metadata": {
        "id": "tHn89-hHyIgJ"
      },
      "outputs": [],
      "source": [
        "metrica1, metrica2, metrica3"
      ]
    },
    {
      "cell_type": "code",
      "execution_count": null,
      "metadata": {
        "id": "lqhfuqHoyIgJ"
      },
      "outputs": [],
      "source": [
        "# Scriem datele într-un fișier binar sub formă de tuplu\n",
        "with open('metrici.pkl', 'wb') as f:\n",
        "    pkl.dump((metrica1, metrica2, metrica3), f)"
      ]
    },
    {
      "cell_type": "code",
      "execution_count": null,
      "metadata": {
        "id": "uFu6JkvJyIgJ"
      },
      "outputs": [],
      "source": [
        "with open('metrici.pkl', 'rb') as f:\n",
        "    m1, m2, m3 = pkl.load(f) # Citim datele din fișierul binar, corespunzătoare array-urilor metrica1, metrica2, metrica3"
      ]
    },
    {
      "cell_type": "code",
      "execution_count": null,
      "metadata": {
        "id": "Fml0cM-9yIgJ"
      },
      "outputs": [],
      "source": [
        "# np.all face și logic între toate elementele arrayului de boolene rezultat din comparația elementelor array-urilor\n",
        "np.all(m1 == metrica1), np.all(m2 == metrica2), np.all(m3 == metrica3)"
      ]
    },
    {
      "cell_type": "markdown",
      "metadata": {
        "id": "c-wiAGD6qatg"
      },
      "source": [
        "# Exerciții cu liste [60p]"
      ]
    },
    {
      "cell_type": "markdown",
      "metadata": {
        "id": "hWLp1VoXqf9t"
      },
      "source": [
        "1. Implementați o funcție care determină și returnează elementul minim dintr-o listă cu numere primită ca parametru."
      ]
    },
    {
      "cell_type": "code",
      "execution_count": null,
      "metadata": {
        "colab": {
          "base_uri": "https://localhost:8080/"
        },
        "id": "FJ1523tfqvkJ",
        "outputId": "7e731d5a-9b09-4295-cb33-cbf26eb62f77"
      },
      "outputs": [
        {
          "output_type": "stream",
          "name": "stdout",
          "text": [
            "Elementul minim din lista este: 1\n"
          ]
        }
      ],
      "source": [
        "def minim(lista):\n",
        "  # TODO: 1\n",
        "  # \"Even\" if n % 2 == 0 else \"Odd\"\n",
        "  # true if condition else false\n",
        "  # reduce(lambda acc, elem: acc + np.sqrt(elem), lista_int_patrat, 0)\n",
        "  return reduce(lambda acc, elem: acc if acc < elem else elem, lista, lista[0])\n",
        "\n",
        "lista_numerica = [2, 8, 5, 1, 7, 3]\n",
        "rezultat = minim(lista_numerica)\n",
        "print(\"Elementul minim din lista este:\", rezultat) # Rezultatul așteptat este: 1"
      ]
    },
    {
      "cell_type": "markdown",
      "metadata": {
        "id": "Mw2Vg0atrB1s"
      },
      "source": [
        "2. Implementați o funcție care determină numărul de numere pare dintr-o listă de numere primită ca argument."
      ]
    },
    {
      "cell_type": "code",
      "execution_count": null,
      "metadata": {
        "colab": {
          "base_uri": "https://localhost:8080/"
        },
        "id": "HCnfgp7grL2j",
        "outputId": "dee60680-0334-426b-db18-c8c2216b8618"
      },
      "outputs": [
        {
          "output_type": "stream",
          "name": "stdout",
          "text": [
            "Numarul de numere pare din lista este: 2\n"
          ]
        }
      ],
      "source": [
        "def pare(lista):\n",
        "  # TODO 2\n",
        "  return reduce(lambda acc, elem: acc + 1 if elem % 2 == 0 else acc, lista, 0)\n",
        "\n",
        "nr_pare = pare(lista_numerica)\n",
        "print(\"Numarul de numere pare din lista este:\", nr_pare) # Rezultatul așteptat este: 2"
      ]
    },
    {
      "cell_type": "markdown",
      "metadata": {
        "id": "eLGk9we9r7Ai"
      },
      "source": [
        "3. Implementați o funcție care primește ca argument o listă și returnează lista cu toate prefixele ei."
      ]
    },
    {
      "cell_type": "code",
      "execution_count": null,
      "metadata": {
        "colab": {
          "base_uri": "https://localhost:8080/"
        },
        "id": "sCMWe68YsFcA",
        "outputId": "644420c6-afcf-4085-9d38-f7656932641a"
      },
      "outputs": [
        {
          "output_type": "stream",
          "name": "stdout",
          "text": [
            "Prefixele listei sunt: [[2], [2, 8], [2, 8, 5], [2, 8, 5, 1], [2, 8, 5, 1, 7], [2, 8, 5, 1, 7, 3]]\n"
          ]
        }
      ],
      "source": [
        "def prefixe_lista(lista):\n",
        "  # TODO 3\n",
        "  return [lista[:i] for i in range (1, len(lista) + 1)]\n",
        "\n",
        "rezultat = prefixe_lista(lista_numerica)\n",
        "print(\"Prefixele listei sunt:\", rezultat) # Rezultatul așteptat: [[2], [2, 8], [2, 8, 5], [2, 8, 5, 1], [2, 8, 5, 1, 7], [2, 8, 5, 1, 7, 3]]"
      ]
    },
    {
      "cell_type": "markdown",
      "metadata": {
        "id": "1LT_qC_IfpVU"
      },
      "source": [
        "4. Implementați o funcție care primește ca argument o listă cu numere întregi și întoarce două liste:\n",
        "- o listă cu elementele pare din lista primită ca argument (sortate crescător și fără duplicate);\n",
        "- o listă cu elementele impare din lista primită ca argument (sortate descrescător și fără duplicate).\n"
      ]
    },
    {
      "cell_type": "code",
      "execution_count": null,
      "metadata": {
        "id": "tmy5wZatftXE",
        "colab": {
          "base_uri": "https://localhost:8080/"
        },
        "outputId": "b8dfe952-dc12-4a29-cae6-cf2537277b4b"
      },
      "outputs": [
        {
          "output_type": "stream",
          "name": "stdout",
          "text": [
            "Lista cu elementele pare:  [2, 4, 8, 32, 42, 100]\n",
            "Lista cu elementele impare:  [21, 9, 7, 3, 1]\n"
          ]
        }
      ],
      "source": [
        "def sub_liste(lista):\n",
        "  # TODO 4\n",
        "  lista_pare, lista_impare = [], []\n",
        "  lista_pare = sorted(set ([x for x in lista if x % 2 == 0]))\n",
        "  lista_impare = sorted(set ([x for x in lista if x % 2 != 0]), reverse = True)\n",
        "\n",
        "  return lista_pare, lista_impare\n",
        "\n",
        "\n",
        "lista_pare, lista_impare = sub_liste([1, 1, 2, 7, 3, 9, 8, 3, 2, 4, 100, 21, 32, 42])\n",
        "print(\"Lista cu elementele pare: \", lista_pare)\n",
        "print(\"Lista cu elementele impare: \", lista_impare)"
      ]
    },
    {
      "cell_type": "markdown",
      "metadata": {
        "id": "fl54N4M0mt53"
      },
      "source": [
        "# Exerciții compuse [20p]"
      ]
    },
    {
      "cell_type": "markdown",
      "metadata": {
        "id": "QpUG1FSIf0wx"
      },
      "source": [
        "5. Implementați o funcție care primește ca argumente două numere naturale, $n$ și $k$, și afișează toate perechile de numere naturale $(a, b)$ cu proprietatea că $10 < a < b \\le n$ și $a + b$ este divizibil cu $k$."
      ]
    },
    {
      "cell_type": "code",
      "execution_count": null,
      "metadata": {
        "id": "yppo_XLgf5wz",
        "colab": {
          "base_uri": "https://localhost:8080/"
        },
        "outputId": "700426e0-d76e-4afd-ddc5-a88425ee35ea"
      },
      "outputs": [
        {
          "output_type": "execute_result",
          "data": {
            "text/plain": [
              "[(11, 14), (12, 13)]"
            ]
          },
          "metadata": {},
          "execution_count": 117
        }
      ],
      "source": [
        "def perechi(n, k):\n",
        "  # TODO 5\n",
        "  # lista_perechi = []\n",
        "  # for a in range(11, n):\n",
        "  #       for b in range(a + 1, n + 1):\n",
        "  #           if (a + b) % k == 0:\n",
        "  #               lista_perechi.append((a, b))\n",
        "  # return lista_perechi\n",
        "  return [(a, b) for a in range (11, n) for b in range(a, n + 1) if (a + b) % k == 0]\n",
        "\n",
        "\n",
        "\n",
        "perechi(14, 5) # Rezultatul așteptat: (11, 14) și (12, 13)"
      ]
    },
    {
      "cell_type": "markdown",
      "metadata": {
        "id": "h4Ucoh2rh-aq"
      },
      "source": [
        "6. Implementați o funcție care primește un text și un prag k și returnează cuvintele care apar de minim k-ori ordonate crescător (Adaptare Interviu Adobe 2023)"
      ]
    },
    {
      "cell_type": "code",
      "execution_count": null,
      "metadata": {
        "colab": {
          "base_uri": "https://localhost:8080/"
        },
        "id": "VsXprAxKjPpP",
        "outputId": "9a0334b8-355c-4f6e-ceda-88d924dc0359"
      },
      "outputs": [
        {
          "output_type": "stream",
          "name": "stdout",
          "text": [
            "Cuvintele care apar de minim 2-ori sunt: ['caine', 'decat', 'e', 'mai', 'om', 'un']\n"
          ]
        }
      ],
      "source": [
        "import string\n",
        "from collections import Counter\n",
        "def cuvinte_peste_prag(text : str, k : int) -> list[str]:\n",
        "  # TODO 6\n",
        "\n",
        "  # TODO: Eliminați semnele de punctuație\n",
        "  text = text.translate(str.maketrans('', '', string.punctuation))\n",
        "\n",
        "  # TODO: Tokenizați stringul curent\n",
        "  cuvinte = text.split()\n",
        "\n",
        "  # TODO: Numărați cu ajutorul unui dicționar frecvențele de apariție ale cuvintelor\n",
        "  frecvente = Counter(cuvinte)\n",
        "\n",
        "  # TODO: Ordonați crescător lista de cuvinte și frecvențe după frecvențe\n",
        "  cuvinte_filtrate = [(cuvant, freq) for cuvant, freq in frecvente.items() if freq >= k]\n",
        "  cuvinte_filtrate.sort(key=lambda x: (x[1], x[0]))\n",
        "\n",
        "  # TODO: Extrageți cuvintele din lista de tupluri ordonate\n",
        "  return [cuvant for cuvant, _ in cuvinte_filtrate]\n",
        "\n",
        "\n",
        "text = \"un caine e mai mic decat un om, dar un om e mult mai putin prietenos decat un caine\"\n",
        "k = 2\n",
        "\n",
        "rezultat = cuvinte_peste_prag(text, k)\n",
        "print(f\"Cuvintele care apar de minim {k}-ori sunt:\", rezultat) # Rezultatul așteptat: ['caine', 'e', 'mai', 'decat', 'om', 'un']"
      ]
    }
  ],
  "metadata": {
    "colab": {
      "provenance": [],
      "include_colab_link": true
    },
    "kernelspec": {
      "display_name": "Python 3",
      "language": "python",
      "name": "python3"
    },
    "language_info": {
      "codemirror_mode": {
        "name": "ipython",
        "version": 3
      },
      "file_extension": ".py",
      "mimetype": "text/x-python",
      "name": "python",
      "nbconvert_exporter": "python",
      "pygments_lexer": "ipython3",
      "version": "3.10.12"
    }
  },
  "nbformat": 4,
  "nbformat_minor": 0
}